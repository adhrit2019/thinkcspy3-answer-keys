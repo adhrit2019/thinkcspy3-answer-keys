{
 "cells": [
  {
   "cell_type": "markdown",
   "metadata": {},
   "source": [
    "## CHAPTER ELEVEN\n",
    "# LISTS"
   ]
  },
  {
   "cell_type": "markdown",
   "metadata": {},
   "source": [
    "### Exercises"
   ]
  },
  {
   "cell_type": "markdown",
   "metadata": {},
   "source": [
    "#### Question 1"
   ]
  },
  {
   "cell_type": "code",
   "execution_count": 1,
   "metadata": {},
   "outputs": [
    {
     "data": {
      "text/plain": [
       "[10, 8, 6, 4, 2]"
      ]
     },
     "execution_count": 1,
     "metadata": {},
     "output_type": "execute_result"
    }
   ],
   "source": [
    "list(range(10, 0, -2))"
   ]
  },
  {
   "cell_type": "markdown",
   "metadata": {},
   "source": [
    "Here 10 is assigned to `start`, 0 is assigned to `stop` and -2 is assigned to `step`. With `range`'s parameters are assigned to these values, `range` returns a sequence which starts with 10 and ends with 0 but not including 0. It is returning the sequence by stepping 2 numbers negative i.e. backward. This could be how range returns a sequence of integers."
   ]
  },
  {
   "cell_type": "markdown",
   "metadata": {},
   "source": [
    "#### Question 2"
   ]
  },
  {
   "cell_type": "code",
   "execution_count": 8,
   "metadata": {},
   "outputs": [],
   "source": [
    "import turtle\n",
    "\n",
    "tess = turtle.Turtle()\n",
    "alex = tess\n",
    "alex.color(\"hotpink\")"
   ]
  },
  {
   "cell_type": "markdown",
   "metadata": {},
   "source": [
    "In the above fragment of code, `turtle` doesn't make two turtle instances. Here, `tess` becomes a Turtle object. Since, `alex` and `tess` becomes clones, both of their colors changes to hotpink."
   ]
  },
  {
   "cell_type": "markdown",
   "metadata": {},
   "source": [
    "#### Question 3"
   ]
  },
  {
   "cell_type": "markdown",
   "metadata": {},
   "source": [
    "The state diagram for the given fragment of code is:\n",
    "<img src=\"Chapter-11-Question-3.svg\" alt=\"State Diagram\" width=\"50%\" style=\"padding-top:1em;\">"
   ]
  },
  {
   "cell_type": "markdown",
   "metadata": {},
   "source": [
    "#### Question 4"
   ]
  },
  {
   "cell_type": "code",
   "execution_count": 1,
   "metadata": {},
   "outputs": [
    {
     "name": "stdout",
     "output_type": "stream",
     "text": [
      "Test 1: False\n",
      "Test 2: True\n"
     ]
    }
   ],
   "source": [
    "this = [\"I\", \"am\", \"not\", \"a\", \"crook\"]\n",
    "that = [\"I\", \"am\", \"not\", \"a\", \"crook\"]\n",
    "print(\"Test 1: {0}\".format(this is that))\n",
    "that = this\n",
    "print(\"Test 2: {0}\".format(this is that))"
   ]
  },
  {
   "cell_type": "markdown",
   "metadata": {},
   "source": [
    "Here both the processes of cloning and aliasing takes place. The first two lines show the assignment of lists with the same data but different variables. This is an example of cloning. Therefore, `this` and `that` are pointing/referring to different lists. But at the second last line, `that` is now pointing/referring to the same list which `this` is pointing/referring. This is an example of aliasing. Therefore, `this is that` is returning `True`."
   ]
  },
  {
   "cell_type": "markdown",
   "metadata": {},
   "source": [
    "#### Question 5"
   ]
  },
  {
   "cell_type": "code",
   "execution_count": 4,
   "metadata": {},
   "outputs": [
    {
     "name": "stdout",
     "output_type": "stream",
     "text": [
      "Test at line 25 passed.\n",
      "Test at line 26 passed.\n",
      "Test at line 27 passed.\n"
     ]
    }
   ],
   "source": [
    "%run vectors.py"
   ]
  },
  {
   "cell_type": "markdown",
   "metadata": {},
   "source": [
    "#### Question 6"
   ]
  },
  {
   "cell_type": "code",
   "execution_count": 5,
   "metadata": {},
   "outputs": [
    {
     "name": "stdout",
     "output_type": "stream",
     "text": [
      "Test at line 37 passed.\n",
      "Test at line 38 passed.\n",
      "Test at line 39 passed.\n",
      "Test at line 42 passed.\n",
      "Test at line 43 passed.\n",
      "Test at line 44 passed.\n"
     ]
    }
   ],
   "source": [
    "%run vectors.py"
   ]
  },
  {
   "cell_type": "markdown",
   "metadata": {},
   "source": [
    "#### Question 7"
   ]
  },
  {
   "cell_type": "code",
   "execution_count": 6,
   "metadata": {},
   "outputs": [
    {
     "name": "stdout",
     "output_type": "stream",
     "text": [
      "Test at line 51 passed.\n",
      "Test at line 52 passed.\n",
      "Test at line 53 passed.\n",
      "Test at line 56 passed.\n",
      "Test at line 57 passed.\n",
      "Test at line 58 passed.\n",
      "Test at line 61 passed.\n",
      "Test at line 62 passed.\n",
      "Test at line 63 passed.\n"
     ]
    }
   ],
   "source": [
    "%run vectors.py"
   ]
  },
  {
   "cell_type": "markdown",
   "metadata": {},
   "source": [
    "#### Question 8"
   ]
  },
  {
   "cell_type": "code",
   "execution_count": 4,
   "metadata": {},
   "outputs": [
    {
     "name": "stdout",
     "output_type": "stream",
     "text": [
      "Test at line 82 passed.\n",
      "Test at line 83 passed.\n",
      "Test at line 84 passed.\n",
      "Test at line 87 passed.\n",
      "Test at line 88 passed.\n",
      "Test at line 89 passed.\n",
      "Test at line 92 passed.\n",
      "Test at line 93 passed.\n",
      "Test at line 94 passed.\n",
      "Test at line 97 passed.\n",
      "Test at line 98 passed.\n",
      "Test at line 99 passed.\n"
     ]
    }
   ],
   "source": [
    "%run vectors.py"
   ]
  },
  {
   "cell_type": "markdown",
   "metadata": {},
   "source": [
    "#### Question 9"
   ]
  },
  {
   "cell_type": "code",
   "execution_count": 7,
   "metadata": {},
   "outputs": [
    {
     "data": {
      "text/plain": [
       "'The rain in Spain...'"
      ]
     },
     "execution_count": 7,
     "metadata": {},
     "output_type": "execute_result"
    }
   ],
   "source": [
    "song = \"The rain in Spain...\"\n",
    "\" \".join(song.split())"
   ]
  },
  {
   "cell_type": "markdown",
   "metadata": {},
   "source": [
    "Here `\" \".join(song.split())` and `song` becomes the same. When `song.split()` is called, the value of song becomes `[\"The\", \"rain\", \"in\", \"Spain...\"]`. But when `\" \".join(song.split())` is called, it technically joins the elements of the list returned by `song.split()` with the space between the elements of the list. Therefore, they become teh same.\n",
    "\n",
    "Yes, they are the same for all strings assigned to `song`.\n",
    "\n",
    "They would be different when the function calls are called seperatly."
   ]
  },
  {
   "cell_type": "markdown",
   "metadata": {},
   "source": [
    "#### Question 10"
   ]
  },
  {
   "cell_type": "code",
   "execution_count": 9,
   "metadata": {},
   "outputs": [],
   "source": [
    "def replace(s, old, new):\n",
    "    \"\"\"Returns a new string with the replacement of the previous substring with the new substring.\"\"\"\n",
    "    \n",
    "    return new.join(s.split(old))"
   ]
  },
  {
   "cell_type": "code",
   "execution_count": 10,
   "metadata": {},
   "outputs": [
    {
     "name": "stdout",
     "output_type": "stream",
     "text": [
      "Test at line 1 passed.\n",
      "Test at line 4 passed.\n",
      "Test at line 6 passed.\n"
     ]
    }
   ],
   "source": [
    "test(replace(\"Mississippi\", \"i\", \"I\") == \"MIssIssIppI\")\n",
    "\n",
    "s = \"I love spom! Spom is my favorite food. Spom, spom, yum!\"\n",
    "test(replace(s, \"om\", \"am\") == \"I love spam! Spam is my favorite food. Spam, spam, yum!\")\n",
    "\n",
    "test(replace(s, \"o\", \"a\") == \"I lave spam! Spam is my favarite faad. Spam, spam, yum!\")"
   ]
  },
  {
   "cell_type": "markdown",
   "metadata": {},
   "source": [
    "#### Question 11"
   ]
  },
  {
   "cell_type": "code",
   "execution_count": 11,
   "metadata": {},
   "outputs": [],
   "source": [
    "def swap(x, y):                                       # Incorrect version\n",
    "    \"\"\"Swaps the values of x and y.\"\"\"\n",
    "    \n",
    "    print(\"before swap statement: x:\", x, \"y:\", y)\n",
    "    (x, y) = (y, x)\n",
    "    print(\"after swap statement: x:\", x, \"y:\", y)"
   ]
  },
  {
   "cell_type": "code",
   "execution_count": 12,
   "metadata": {},
   "outputs": [
    {
     "name": "stdout",
     "output_type": "stream",
     "text": [
      "before swap function call: a: ['This', 'is', 'fun'] b: [2, 3, 4]\n",
      "before swap statement: x: ['This', 'is', 'fun'] y: [2, 3, 4]\n",
      "after swap statement: x: [2, 3, 4] y: ['This', 'is', 'fun']\n",
      "after swap function call: a: ['This', 'is', 'fun'] b: [2, 3, 4]\n"
     ]
    }
   ],
   "source": [
    "a = [\"This\", \"is\", \"fun\"]\n",
    "b = [2,3,4]\n",
    "print(\"before swap function call: a:\", a, \"b:\", b)\n",
    "swap(a, b)\n",
    "print(\"after swap function call: a:\", a, \"b:\", b)"
   ]
  },
  {
   "cell_type": "markdown",
   "metadata": {},
   "source": [
    "Here the problem of local and global variables occur. In the `swap` function, `x` and `y` are swaped by tuple unpacking. Since this is happening in the function, it just changes the `x` and `y` in the function but not the given variables. This function is only changing the local variables but it has no effect on the global variables.\n",
    "\n",
    "The value of `a` after the call to `swap` is still `['This', 'is', 'fun']` and the value of `b` after the call to `swap` is still `[2, 3, 4]`."
   ]
  }
 ],
 "metadata": {
  "kernelspec": {
   "display_name": "Python 3",
   "language": "python",
   "name": "python3"
  },
  "language_info": {
   "codemirror_mode": {
    "name": "ipython",
    "version": 3
   },
   "file_extension": ".py",
   "mimetype": "text/x-python",
   "name": "python",
   "nbconvert_exporter": "python",
   "pygments_lexer": "ipython3",
   "version": "3.7.1"
  }
 },
 "nbformat": 4,
 "nbformat_minor": 4
}
