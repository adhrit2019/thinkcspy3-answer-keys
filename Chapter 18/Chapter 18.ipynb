{
 "cells": [
  {
   "cell_type": "markdown",
   "id": "5a66133d",
   "metadata": {},
   "source": [
    "## CHAPTER EIGHTEEN\n",
    "# RECURSION"
   ]
  },
  {
   "cell_type": "markdown",
   "id": "66ca6511",
   "metadata": {},
   "source": [
    "### Exercises"
   ]
  },
  {
   "cell_type": "markdown",
   "id": "53782045",
   "metadata": {},
   "source": [
    "#### Question 1"
   ]
  },
  {
   "cell_type": "code",
   "execution_count": 1,
   "id": "59aa85d3",
   "metadata": {},
   "outputs": [],
   "source": [
    "import turtle\n",
    "from unit_tester import test\n",
    "import sys\n",
    "import os"
   ]
  },
  {
   "cell_type": "code",
   "execution_count": 2,
   "id": "38258f79",
   "metadata": {},
   "outputs": [],
   "source": [
    "def koch(t, order, size):\n",
    "    if order == 1:\n",
    "        t.forward(size)\n",
    "    else:\n",
    "        for angle in [60, -120, 60, 0]:\n",
    "            koch(t, order - 1, size // 3)\n",
    "            t.right(angle)\n",
    "\n",
    "wn = turtle.Screen()\n",
    "wn.bgcolor(\"lightgreen\")\n",
    "tess = turtle.Turtle()\n",
    "tess.pencolor(\"blue\")\n",
    "for i in range(3):\n",
    "    koch(tess, 3, 100)\n",
    "    tess.left(120)\n",
    "wn.mainloop()"
   ]
  },
  {
   "cell_type": "markdown",
   "id": "e8ee5cc0",
   "metadata": {},
   "source": [
    "#### Question 2"
   ]
  },
  {
   "cell_type": "code",
   "execution_count": 4,
   "id": "1348259f",
   "metadata": {},
   "outputs": [],
   "source": [
    "# (a)\n",
    "def cesaro(t, order, size):\n",
    "    if order == 1:\n",
    "        t.forward(size)\n",
    "    else:\n",
    "        for angle in [85, -170, 85, 0]:\n",
    "            cesaro(t, order -1, size // 2)\n",
    "            t.right(angle)\n",
    "\n",
    "wn = turtle.Screen()\n",
    "wn.bgcolor(\"lightgreen\")\n",
    "tess = turtle.Turtle()\n",
    "tess.pencolor(\"blue\")\n",
    "\n",
    "for order in range(1, 5):\n",
    "    tess.penup()\n",
    "    tess.forward(50)\n",
    "    tess.pendown()\n",
    "    cesaro(tess, order, 100)\n",
    "    \n",
    "wn.mainloop()"
   ]
  },
  {
   "cell_type": "code",
   "execution_count": 6,
   "id": "33338c78",
   "metadata": {},
   "outputs": [],
   "source": [
    "# (b)\n",
    "wn = turtle.Screen()\n",
    "wn.bgcolor(\"lightgreen\")\n",
    "tess = turtle.Turtle()\n",
    "tess.pencolor(\"blue\")\n",
    "\n",
    "for order in range(1, 5):\n",
    "    for i in range(4):\n",
    "        cesaro(tess, order, 100)\n",
    "        tess.right(90)\n",
    "    tess.penup()\n",
    "    tess.forward(150)\n",
    "    tess.pendown()\n",
    "    \n",
    "wn.mainloop()"
   ]
  },
  {
   "cell_type": "markdown",
   "id": "01c13ec8",
   "metadata": {},
   "source": [
    "*(c)*\n",
    "With higher order, the squares' sizes also increase. This is so because of the angle present in the tear. In this case it is 10&deg;. Due to this angle, an additional length is added to the side of the square."
   ]
  },
  {
   "cell_type": "markdown",
   "id": "ebb7e594",
   "metadata": {},
   "source": [
    "#### Question 3"
   ]
  },
  {
   "cell_type": "code",
   "execution_count": 8,
   "id": "9e30352f",
   "metadata": {},
   "outputs": [],
   "source": [
    "def sierpinski(t, order, size):\n",
    "    for i in range(3):\n",
    "        if order == 0:\n",
    "            t.forward(size)\n",
    "            t.left(120)\n",
    "        else:\n",
    "            t.penup()\n",
    "            t.forward(size//2)\n",
    "            t.pendown()\n",
    "            t.forward(size//2)\n",
    "            t.left(120)\n",
    "            sierpinski(t, order - 1, size // 2)\n",
    "            \n",
    "wn = turtle.Screen()\n",
    "wn.bgcolor(\"lightgreen\")\n",
    "tess = turtle.Turtle()\n",
    "tess.pencolor(\"blue\")\n",
    "tess.speed(0)\n",
    "sierpinski(tess, 5, 200)\n",
    "wn.mainloop()"
   ]
  },
  {
   "cell_type": "markdown",
   "id": "1ae5eeae",
   "metadata": {},
   "source": [
    "#### Question 4"
   ]
  },
  {
   "cell_type": "code",
   "execution_count": 10,
   "id": "8a40b433",
   "metadata": {},
   "outputs": [],
   "source": [
    "def sierpinski(t, order, size, colorChangeDepth=-1):\n",
    "    colors = [\"blue\", \"magenta\", \"red\"]\n",
    "    for i in range(3):\n",
    "        if order == 0:\n",
    "            t.forward(size)\n",
    "            t.left(120)\n",
    "        else:\n",
    "            if colorChangeDepth == 0:\n",
    "                color = colors[i]\n",
    "                t.pencolor(color)\n",
    "\n",
    "            t.penup()\n",
    "            t.forward(size//2)\n",
    "            t.pendown()\n",
    "            t.forward(size//2)\n",
    "            t.left(120)\n",
    "            sierpinski(t, order - 1, size // 2, colorChangeDepth-1)\n",
    "            \n",
    "wn = turtle.Screen()\n",
    "wn.bgcolor(\"lightgreen\")\n",
    "tess = turtle.Turtle()\n",
    "tess.pencolor(\"blue\")\n",
    "tess.speed(0)\n",
    "sierpinski(tess, 5, 250, 2)\n",
    "wn.mainloop()"
   ]
  },
  {
   "cell_type": "markdown",
   "id": "8172e485",
   "metadata": {},
   "source": [
    "#### Question 5"
   ]
  },
  {
   "cell_type": "code",
   "execution_count": 11,
   "id": "a2984923",
   "metadata": {},
   "outputs": [
    {
     "name": "stdout",
     "output_type": "stream",
     "text": [
      "Test at line 14 passed.\n",
      "Test at line 15 passed.\n",
      "Test at line 16 passed.\n",
      "Test at line 17 passed.\n"
     ]
    }
   ],
   "source": [
    "def recursive_min(l):\n",
    "      largest = None\n",
    "      first_time = True\n",
    "      for e in l:\n",
    "          if type(e) == type([]):\n",
    "              val = recursive_min(e)\n",
    "          else:\n",
    "              val = e\n",
    "          if first_time or val < largest:\n",
    "              largest = val\n",
    "              first_time = False\n",
    "      return largest\n",
    "\n",
    "test(recursive_min([2, 9, [1, 13], 8, 6]) == 1)\n",
    "test(recursive_min([2, [[100, 1], 90], [10, 13], 8, 6]) == 1)\n",
    "test(recursive_min([2, [[13, -7], 90], [1, 100], 8, 6]) == -7)\n",
    "test(recursive_min([[[-13, 7], 90], 2, [1, 100], 8, 6]) == -13)"
   ]
  },
  {
   "cell_type": "markdown",
   "id": "47c20d99",
   "metadata": {},
   "source": [
    "#### Question 6"
   ]
  },
  {
   "cell_type": "code",
   "execution_count": 12,
   "id": "4e9d0951",
   "metadata": {},
   "outputs": [
    {
     "name": "stdout",
     "output_type": "stream",
     "text": [
      "Test at line 10 passed.\n",
      "Test at line 11 passed.\n",
      "Test at line 12 passed.\n",
      "Test at line 13 passed.\n",
      "Test at line 14 passed.\n",
      "Test at line 15 passed.\n"
     ]
    }
   ],
   "source": [
    "def count(target, nested_list):\n",
    "    c = 0\n",
    "    for element in nested_list:\n",
    "        if type(element) == type([]):\n",
    "            c += count(target, element)\n",
    "        if element == target:\n",
    "            c += 1\n",
    "    return c\n",
    "\n",
    "test(count(2, []) == 0)\n",
    "test(count(2, [2, 9, [2, 1, 13, 2], 8, [2, 6]]) == 4)\n",
    "test(count(7, [[9, [7, 1, 13, 2], 8], [7, 6]]) == 2)\n",
    "test(count(15, [[9, [7, 1, 13, 2], 8], [2, 6]]) == 0)\n",
    "test(count(5, [[5, [5, [1, 5], 5], 5], [5, 6]]) == 6)\n",
    "test(count(\"a\", [[\"this\",[\"a\",[\"thing\",\"a\"],\"a\"],\"is\"], [\"a\",\"easy\"]]) == 4)"
   ]
  },
  {
   "cell_type": "markdown",
   "id": "fe69cf78",
   "metadata": {},
   "source": [
    "#### Question 7"
   ]
  },
  {
   "cell_type": "code",
   "execution_count": 13,
   "id": "e11f67ba",
   "metadata": {},
   "outputs": [
    {
     "name": "stdout",
     "output_type": "stream",
     "text": [
      "Test at line 9 passed.\n",
      "Test at line 10 passed.\n",
      "Test at line 11 passed.\n",
      "Test at line 12 passed.\n",
      "Test at line 13 passed.\n"
     ]
    }
   ],
   "source": [
    "def flatten(nested_list):\n",
    "    result = []\n",
    "    for element in nested_list:\n",
    "        if type(element) == type([]):\n",
    "            result += flatten(element)\n",
    "        else:\n",
    "            result.append(element)\n",
    "    return result\n",
    "test(flatten([2,9,[2,1,13,2],8,[2,6]]) == [2,9,2,1,13,2,8,2,6])\n",
    "test(flatten([[9,[7,1,13,2],8],[7,6]]) == [9,7,1,13,2,8,7,6])\n",
    "test(flatten([[9,[7,1,13,2],8],[2,6]]) == [9,7,1,13,2,8,2,6])\n",
    "test(flatten([[\"this\",[\"a\",[\"thing\"],\"a\"],\"is\"],[\"a\",\"easy\"]]) == [\"this\",\"a\",\"thing\",\"a\",\"is\",\"a\",\"easy\"])\n",
    "test(flatten([]) == [])"
   ]
  },
  {
   "cell_type": "markdown",
   "id": "c3995cb5",
   "metadata": {},
   "source": [
    "#### Question 8"
   ]
  },
  {
   "cell_type": "code",
   "execution_count": 14,
   "id": "400fabc9",
   "metadata": {},
   "outputs": [
    {
     "data": {
      "text/plain": [
       "8"
      ]
     },
     "execution_count": 14,
     "metadata": {},
     "output_type": "execute_result"
    }
   ],
   "source": [
    "def fib(n):\n",
    "    nums = [0, 1]\n",
    "    if n in nums:\n",
    "        return n\n",
    "    for ix, num in enumerate(nums):\n",
    "        nums.append(num + nums[ix + 1])\n",
    "        if len(nums) == n + 1:\n",
    "            return nums[ix + 2]\n",
    "fib(6)"
   ]
  },
  {
   "cell_type": "code",
   "execution_count": 15,
   "id": "e86c5b79",
   "metadata": {},
   "outputs": [
    {
     "data": {
      "text/plain": [
       "55"
      ]
     },
     "execution_count": 15,
     "metadata": {},
     "output_type": "execute_result"
    }
   ],
   "source": [
    "fib(10)"
   ]
  },
  {
   "cell_type": "code",
   "execution_count": 16,
   "id": "186c03a7",
   "metadata": {},
   "outputs": [
    {
     "data": {
      "text/plain": [
       "280571172992510140037611932413038677189525"
      ]
     },
     "execution_count": 16,
     "metadata": {},
     "output_type": "execute_result"
    }
   ],
   "source": [
    "fib(200)"
   ]
  },
  {
   "cell_type": "markdown",
   "id": "b9c7fd5e",
   "metadata": {},
   "source": [
    "#### Question 9"
   ]
  },
  {
   "cell_type": "code",
   "execution_count": 17,
   "id": "7174bc96",
   "metadata": {},
   "outputs": [
    {
     "name": "stdout",
     "output_type": "stream",
     "text": [
      "Help on built-in function getrecursionlimit in module sys:\n",
      "\n",
      "getrecursionlimit()\n",
      "    Return the current value of the recursion limit.\n",
      "    \n",
      "    The recursion limit is the maximum depth of the Python interpreter\n",
      "    stack.  This limit prevents infinite recursion from causing an overflow\n",
      "    of the C stack and crashing Python.\n",
      "\n"
     ]
    }
   ],
   "source": [
    "help(sys.getrecursionlimit)"
   ]
  },
  {
   "cell_type": "code",
   "execution_count": 18,
   "id": "41e780bd",
   "metadata": {},
   "outputs": [
    {
     "data": {
      "text/plain": [
       "3000"
      ]
     },
     "execution_count": 18,
     "metadata": {},
     "output_type": "execute_result"
    }
   ],
   "source": [
    "sys.getrecursionlimit()"
   ]
  },
  {
   "cell_type": "code",
   "execution_count": 19,
   "id": "9bde15a8",
   "metadata": {
    "scrolled": true
   },
   "outputs": [
    {
     "name": "stdout",
     "output_type": "stream",
     "text": [
      "Help on built-in function setrecursionlimit in module sys:\n",
      "\n",
      "setrecursionlimit(limit, /)\n",
      "    Set the maximum depth of the Python interpreter stack to n.\n",
      "    \n",
      "    This limit prevents infinite recursion from causing an overflow of the C\n",
      "    stack and crashing Python.  The highest possible limit is platform-\n",
      "    dependent.\n",
      "\n"
     ]
    }
   ],
   "source": [
    "help(sys.setrecursionlimit)"
   ]
  },
  {
   "cell_type": "code",
   "execution_count": 20,
   "id": "a9bbc023",
   "metadata": {},
   "outputs": [
    {
     "data": {
      "text/plain": [
       "2500"
      ]
     },
     "execution_count": 20,
     "metadata": {},
     "output_type": "execute_result"
    }
   ],
   "source": [
    "sys.setrecursionlimit(2500)\n",
    "sys.getrecursionlimit()"
   ]
  },
  {
   "cell_type": "code",
   "execution_count": 21,
   "id": "2a779687",
   "metadata": {},
   "outputs": [
    {
     "name": "stdout",
     "output_type": "stream",
     "text": [
      "0, 1, 2, 3, 4, 5, 6, 7, 8, 9, 10, 11, 12, 13, 14, 15, 16, 17, 18, 19, 20, 21, 22, 23, 24, 25, 26, 27, 28, 29, 30, 31, 32, 33, 34, 35, 36, 37, 38, 39, 40, 41, 42, 43, 44, 45, 46, 47, 48, 49, 50, 51, 52, 53, 54, 55, 56, 57, 58, 59, 60, 61, 62, 63, 64, 65, 66, 67, 68, 69, 70, 71, 72, 73, 74, 75, 76, 77, 78, 79, 80, 81, 82, 83, 84, 85, 86, 87, 88, 89, 90, 91, 92, 93, 94, 95, 96, 97, 98, 99, 100, 101, 102, 103, 104, 105, 106, 107, 108, 109, 110, 111, 112, 113, 114, 115, 116, 117, 118, 119, 120, 121, 122, 123, 124, 125, 126, 127, 128, 129, 130, 131, 132, 133, 134, 135, 136, 137, 138, 139, 140, 141, 142, 143, 144, 145, 146, 147, 148, 149, 150, 151, 152, 153, 154, 155, 156, 157, 158, 159, 160, 161, 162, 163, 164, 165, 166, 167, 168, 169, 170, 171, 172, 173, 174, 175, 176, 177, 178, 179, 180, 181, 182, 183, 184, 185, 186, 187, 188, 189, 190, 191, 192, 193, 194, 195, 196, 197, 198, 199, 200, 201, 202, 203, 204, 205, 206, 207, 208, 209, 210, 211, 212, 213, 214, 215, 216, 217, 218, 219, 220, 221, 222, 223, 224, 225, 226, 227, 228, 229, 230, 231, 232, 233, 234, 235, 236, 237, 238, 239, 240, 241, 242, 243, 244, 245, 246, 247, 248, 249, 250, 251, 252, 253, 254, 255, 256, 257, 258, 259, 260, 261, 262, 263, 264, 265, 266, 267, 268, 269, 270, 271, 272, 273, 274, 275, 276, 277, 278, 279, 280, 281, 282, 283, 284, 285, 286, 287, 288, 289, 290, 291, 292, 293, 294, 295, 296, 297, 298, 299, 300, 301, 302, 303, 304, 305, 306, 307, 308, 309, 310, 311, 312, 313, 314, 315, 316, 317, 318, 319, 320, 321, 322, 323, 324, 325, 326, 327, 328, 329, 330, 331, 332, 333, 334, 335, 336, 337, 338, 339, 340, 341, 342, 343, 344, 345, 346, 347, 348, 349, 350, 351, 352, 353, 354, 355, 356, 357, 358, 359, 360, 361, 362, 363, 364, 365, 366, 367, 368, 369, 370, 371, 372, 373, 374, 375, 376, 377, 378, 379, 380, 381, 382, 383, 384, 385, 386, 387, 388, 389, 390, 391, 392, 393, 394, 395, 396, 397, 398, 399, 400, 401, 402, 403, 404, 405, 406, 407, 408, 409, 410, 411, 412, 413, 414, 415, 416, 417, 418, 419, 420, 421, 422, 423, 424, 425, 426, 427, 428, 429, 430, 431, 432, 433, 434, 435, 436, 437, 438, 439, 440, 441, 442, 443, 444, 445, 446, 447, 448, 449, 450, 451, 452, 453, 454, 455, 456, 457, 458, 459, 460, 461, 462, 463, 464, 465, 466, 467, 468, 469, 470, 471, 472, 473, 474, 475, 476, 477, 478, 479, 480, 481, 482, 483, 484, 485, 486, 487, 488, 489, 490, 491, 492, 493, 494, 495, 496, 497, 498, 499, 500, 501, 502, 503, 504, 505, 506, 507, 508, 509, 510, 511, 512, 513, 514, 515, 516, 517, 518, 519, 520, 521, 522, 523, 524, 525, 526, 527, 528, 529, 530, 531, 532, 533, 534, 535, 536, 537, 538, 539, 540, 541, 542, 543, 544, 545, 546, 547, 548, 549, 550, 551, 552, 553, 554, 555, 556, 557, 558, 559, 560, 561, 562, 563, 564, 565, 566, 567, 568, 569, 570, 571, 572, 573, 574, 575, 576, 577, 578, 579, 580, 581, 582, 583, 584, 585, 586, 587, 588, 589, 590, 591, 592, 593, 594, 595, 596, 597, 598, 599, 600, 601, 602, 603, 604, 605, 606, 607, 608, 609, 610, 611, 612, 613, 614, 615, 616, 617, 618, 619, 620, 621, 622, 623, 624, 625, 626, 627, 628, 629, 630, 631, 632, 633, 634, 635, 636, 637, 638, 639, 640, 641, 642, 643, 644, 645, 646, 647, 648, 649, 650, 651, 652, 653, 654, 655, 656, 657, 658, 659, 660, 661, 662, 663, 664, 665, 666, 667, 668, 669, 670, 671, 672, 673, 674, 675, 676, 677, 678, 679, 680, 681, 682, 683, 684, 685, 686, 687, 688, 689, 690, 691, 692, 693, 694, 695, 696, 697, 698, 699, 700, 701, 702, 703, 704, 705, 706, 707, 708, 709, 710, 711, 712, 713, 714, 715, 716, 717, 718, 719, 720, 721, 722, 723, 724, 725, 726, 727, 728, 729, 730, 731, 732, 733, 734, 735, 736, 737, 738, 739, 740, 741, 742, 743, 744, 745, 746, 747, 748, 749, 750, 751, 752, 753, 754, 755, 756, 757, 758, 759, 760, 761, 762, 763, 764, 765, 766, 767, 768, 769, 770, 771, 772, 773, 774, 775, 776, 777, 778, 779, 780, 781, 782, 783, 784, 785, 786, 787, 788, 789, 790, 791, 792, 793, 794, 795, 796, 797, 798, 799, 800, 801, 802, 803, 804, 805, 806, 807, 808, 809, 810, 811, 812, 813, 814, 815, 816, 817, 818, 819, 820, 821, 822, 823, 824, 825, 826, 827, 828, 829, 830, 831, 832, 833, 834, 835, 836, 837, 838, 839, 840, 841, 842, 843, 844, 845, 846, 847, 848, 849, 850, 851, 852, 853, 854, 855, 856, 857, 858, 859, 860, 861, 862, 863, 864, 865, 866, 867, 868, 869, 870, 871, 872, 873, 874, 875, 876, 877, 878, 879, 880, 881, 882, 883, 884, 885, 886, 887, 888, 889, 890, 891, 892, 893, 894, 895, 896, 897, 898, 899, 900, 901, 902, 903, 904, 905, 906, 907, 908, 909, 910, 911, 912, 913, 914, 915, 916, 917, 918, 919, 920, 921, 922, 923, 924, 925, 926, 927, 928, 929, 930, 931, 932, 933, 934, 935, 936, 937, 938, 939, 940, 941, 942, 943, 944, 945, 946, 947, 948, 949, 950, 951, 952, 953, 954, 955, 956, 957, 958, 959, 960, 961, 962, 963, 964, 965, 966, 967, 968, 969, 970, 971, 972, 973, 974, 975, 976, 977, 978, 979, 980, 981, 982, 983, 984, 985, 986, 987, 988, 989, 990, 991, 992, 993, 994, 995, 996, 997, 998, 999, 1000, 1001, 1002, 1003, 1004, 1005, 1006, 1007, 1008, 1009, 1010, 1011, 1012, 1013, 1014, 1015, 1016, 1017, 1018, 1019, 1020, 1021, 1022, 1023, 1024, 1025, 1026, 1027, 1028, 1029, 1030, 1031, 1032, 1033, 1034, 1035, 1036, 1037, 1038, 1039, 1040, 1041, 1042, 1043, 1044, 1045, 1046, 1047, 1048, 1049, 1050, 1051, 1052, 1053, 1054, 1055, 1056, 1057, 1058, 1059, 1060, 1061, 1062, 1063, 1064, 1065, 1066, 1067, 1068, 1069, 1070, 1071, 1072, 1073, 1074, 1075, 1076, 1077, 1078, 1079, 1080, 1081, 1082, 1083, 1084, 1085, 1086, 1087, 1088, 1089, 1090, 1091, 1092, 1093, 1094, 1095, 1096, 1097, 1098, 1099, 1100, 1101, 1102, 1103, 1104, 1105, 1106, 1107, 1108, 1109, 1110, 1111, 1112, 1113, 1114, 1115, 1116, 1117, 1118, 1119, 1120, 1121, 1122, 1123, 1124, 1125, 1126, 1127, 1128, 1129, 1130, 1131, 1132, 1133, 1134, 1135, 1136, 1137, 1138, 1139, 1140, 1141, 1142, 1143, 1144, 1145, 1146, 1147, 1148, 1149, 1150, 1151, 1152, 1153, 1154, 1155, 1156, 1157, 1158, 1159, 1160, 1161, 1162, 1163, 1164, 1165, 1166, 1167, 1168, 1169, 1170, 1171, 1172, 1173, 1174, 1175, 1176, 1177, 1178, 1179, 1180, 1181, 1182, 1183, 1184, 1185, 1186, 1187, 1188, 1189, 1190, 1191, 1192, 1193, 1194, 1195, 1196, 1197, 1198, 1199, 1200, 1201, 1202, 1203, 1204, 1205, 1206, 1207, 1208, 1209, 1210, 1211, 1212, 1213, 1214, 1215, 1216, 1217, 1218, 1219, 1220, 1221, 1222, 1223, 1224, 1225, 1226, 1227, 1228, 1229, 1230, 1231, 1232, 1233, 1234, 1235, 1236, 1237, 1238, 1239, 1240, 1241, 1242, 1243, 1244, 1245, 1246, 1247, 1248, 1249, 1250, 1251, 1252, 1253, 1254, 1255, 1256, 1257, 1258, 1259, 1260, 1261, 1262, 1263, 1264, 1265, 1266, 1267, 1268, 1269, 1270, 1271, 1272, 1273, 1274, 1275, 1276, 1277, 1278, 1279, 1280, 1281, 1282, 1283, 1284, 1285, 1286, 1287, 1288, 1289, 1290, 1291, 1292, 1293, 1294, 1295, 1296, 1297, 1298, 1299, 1300, 1301, 1302, 1303, 1304, 1305, 1306, 1307, 1308, 1309, 1310, 1311, 1312, 1313, 1314, 1315, 1316, 1317, 1318, 1319, 1320, 1321, 1322, 1323, 1324, 1325, 1326, 1327, 1328, 1329, 1330, 1331, 1332, 1333, 1334, 1335, 1336, 1337, 1338, 1339, 1340, 1341, 1342, 1343, 1344, 1345, 1346, 1347, 1348, 1349, 1350, 1351, 1352, 1353, 1354, 1355, 1356, 1357, 1358, 1359, 1360, 1361, 1362, 1363, 1364, 1365, 1366, 1367, 1368, 1369, 1370, 1371, 1372, 1373, 1374, 1375, 1376, 1377, 1378, 1379, 1380, 1381, 1382, 1383, 1384, 1385, 1386, 1387, 1388, 1389, 1390, 1391, 1392, 1393, 1394, 1395, 1396, 1397, 1398, 1399, 1400, 1401, 1402, 1403, 1404, 1405, 1406, 1407, 1408, 1409, 1410, 1411, 1412, 1413, 1414, 1415, 1416, 1417, 1418, 1419, 1420, 1421, 1422, 1423, 1424, 1425, 1426, 1427, 1428, 1429, 1430, 1431, 1432, 1433, 1434, 1435, 1436, 1437, 1438, 1439, 1440, 1441, 1442, 1443, 1444, 1445, 1446, 1447, 1448, 1449, 1450, 1451, 1452, 1453, 1454, 1455, 1456, 1457, 1458, 1459, 1460, 1461, 1462, 1463, 1464, 1465, 1466, 1467, 1468, 1469, 1470, 1471, 1472, 1473, 1474, 1475, 1476, 1477, 1478, 1479, 1480, 1481, 1482, 1483, 1484, 1485, 1486, 1487, 1488, 1489, 1490, 1491, 1492, 1493, 1494, 1495, 1496, 1497, 1498, 1499, 1500, 1501, 1502, 1503, 1504, 1505, 1506, 1507, 1508, 1509, 1510, 1511, 1512, 1513, 1514, 1515, 1516, 1517, 1518, 1519, 1520, 1521, 1522, 1523, 1524, 1525, 1526, 1527, 1528, 1529, 1530, 1531, 1532, 1533, 1534, 1535, 1536, 1537, 1538, 1539, 1540, 1541, 1542, 1543, 1544, 1545, 1546, 1547, 1548, 1549, 1550, 1551, 1552, 1553, 1554, 1555, 1556, 1557, 1558, 1559, 1560, 1561, 1562, 1563, 1564, 1565, 1566, 1567, 1568, 1569, 1570, 1571, 1572, 1573, 1574, 1575, 1576, 1577, 1578, 1579, 1580, 1581, 1582, 1583, 1584, 1585, 1586, 1587, 1588, 1589, 1590, 1591, 1592, 1593, 1594, 1595, 1596, 1597, 1598, 1599, 1600, 1601, 1602, 1603, 1604, 1605, 1606, 1607, 1608, 1609, 1610, 1611, 1612, 1613, 1614, 1615, 1616, 1617, 1618, 1619, 1620, 1621, 1622, 1623, 1624, 1625, 1626, 1627, 1628, 1629, 1630, 1631, 1632, 1633, 1634, 1635, 1636, 1637, 1638, 1639, 1640, 1641, 1642, 1643, 1644, 1645, 1646, 1647, 1648, 1649, 1650, 1651, 1652, 1653, 1654, 1655, 1656, 1657, 1658, 1659, 1660, 1661, 1662, 1663, 1664, 1665, 1666, 1667, 1668, 1669, 1670, 1671, 1672, 1673, 1674, 1675, 1676, 1677, 1678, 1679, 1680, 1681, 1682, 1683, 1684, 1685, 1686, 1687, 1688, 1689, 1690, 1691, 1692, 1693, 1694, 1695, 1696, 1697, 1698, 1699, 1700, 1701, 1702, 1703, 1704, 1705, 1706, 1707, 1708, 1709, 1710, 1711, 1712, 1713, 1714, 1715, 1716, 1717, 1718, 1719, 1720, 1721, 1722, 1723, 1724, 1725, 1726, 1727, 1728, 1729, 1730, 1731, 1732, 1733, 1734, 1735, 1736, 1737, 1738, 1739, 1740, 1741, 1742, 1743, 1744, 1745, 1746, 1747, 1748, 1749, 1750, 1751, 1752, 1753, 1754, 1755, 1756, 1757, 1758, 1759, 1760, 1761, 1762, 1763, 1764, 1765, 1766, 1767, 1768, 1769, 1770, 1771, 1772, 1773, 1774, 1775, 1776, 1777, 1778, 1779, 1780, 1781, 1782, 1783, 1784, 1785, 1786, 1787, 1788, 1789, 1790, 1791, 1792, 1793, 1794, 1795, 1796, 1797, 1798, 1799, 1800, 1801, 1802, 1803, 1804, 1805, 1806, 1807, 1808, 1809, 1810, 1811, 1812, 1813, 1814, 1815, 1816, 1817, 1818, 1819, 1820, 1821, 1822, 1823, 1824, 1825, 1826, 1827, 1828, 1829, 1830, 1831, 1832, 1833, 1834, 1835, 1836, 1837, 1838, 1839, 1840, 1841, 1842, 1843, 1844, 1845, 1846, 1847, 1848, 1849, 1850, 1851, 1852, 1853, 1854, 1855, 1856, 1857, 1858, 1859, 1860, 1861, 1862, 1863, 1864, 1865, 1866, 1867, 1868, 1869, 1870, 1871, 1872, 1873, 1874, 1875, 1876, 1877, 1878, 1879, 1880, 1881, 1882, 1883, 1884, 1885, 1886, 1887, 1888, 1889, 1890, 1891, 1892, 1893, 1894, 1895, 1896, 1897, 1898, 1899, 1900, 1901, 1902, 1903, 1904, 1905, 1906, 1907, 1908, 1909, 1910, 1911, 1912, 1913, 1914, 1915, 1916, 1917, 1918, 1919, 1920, 1921, 1922, 1923, 1924, 1925, 1926, 1927, 1928, 1929, 1930, 1931, 1932, 1933, 1934, 1935, 1936, 1937, 1938, 1939, 1940, 1941, 1942, 1943, 1944, 1945, 1946, 1947, 1948, 1949, 1950, 1951, 1952, 1953, 1954, 1955, 1956, 1957, 1958, 1959, 1960, 1961, 1962, 1963, 1964, 1965, 1966, 1967, 1968, 1969, 1970, 1971, 1972, 1973, 1974, 1975, 1976, 1977, 1978, 1979, 1980, 1981, 1982, 1983, 1984, 1985, 1986, 1987, 1988, 1989, 1990, 1991, 1992, 1993, 1994, 1995, 1996, 1997, 1998, 1999, 2000, 2001, 2002, 2003, 2004, 2005, 2006, 2007, 2008, 2009, 2010, 2011, 2012, 2013, 2014, 2015, 2016, 2017, 2018, 2019, 2020, 2021, 2022, 2023, 2024, 2025, 2026, 2027, 2028, 2029, 2030, 2031, 2032, 2033, 2034, 2035, 2036, 2037, 2038, 2039, 2040, 2041, 2042, 2043, 2044, 2045, 2046, 2047, 2048, 2049, 2050, 2051, 2052, 2053, 2054, 2055, 2056, 2057, 2058, 2059, 2060, 2061, 2062, 2063, 2064, 2065, 2066, 2067, 2068, 2069, 2070, 2071, 2072, 2073, 2074, 2075, 2076, 2077, 2078, 2079, 2080, 2081, 2082, 2083, 2084, 2085, 2086, 2087, 2088, 2089, 2090, 2091, 2092, 2093, 2094, 2095, 2096, 2097, 2098, 2099, 2100, 2101, 2102, 2103, 2104, 2105, 2106, 2107, 2108, 2109, 2110, 2111, 2112, 2113, 2114, 2115, 2116, 2117, 2118, 2119, 2120, 2121, 2122, 2123, 2124, 2125, 2126, 2127, 2128, 2129, 2130, 2131, 2132, 2133, 2134, 2135, 2136, 2137, 2138, 2139, 2140, 2141, 2142, 2143, 2144, 2145, 2146, 2147, 2148, 2149, 2150, 2151, 2152, 2153, 2154, 2155, 2156, 2157, 2158, 2159, 2160, 2161, 2162, 2163, 2164, 2165, 2166, 2167, 2168, 2169, 2170, 2171, 2172, 2173, 2174, 2175, 2176, 2177, 2178, 2179, 2180, 2181, 2182, 2183, 2184, 2185, 2186, 2187, 2188, 2189, 2190, 2191, 2192, 2193, 2194, 2195, 2196, 2197, 2198, 2199, 2200, 2201, 2202, 2203, 2204, 2205, 2206, 2207, 2208, 2209, 2210, 2211, 2212, 2213, 2214, 2215, 2216, 2217, 2218, 2219, 2220, 2221, 2222, 2223, 2224, 2225, 2226, 2227, 2228, 2229, 2230, 2231, 2232, 2233, 2234, 2235, 2236, 2237, 2238, 2239, 2240, 2241, 2242, 2243, 2244, 2245, 2246, 2247, 2248, 2249, 2250, 2251, 2252, 2253, 2254, 2255, 2256, 2257, 2258, 2259, 2260, 2261, 2262, 2263, 2264, 2265, 2266, 2267, 2268, 2269, 2270, 2271, 2272, 2273, 2274, 2275, 2276, 2277, 2278, 2279, 2280, 2281, 2282, 2283, 2284, 2285, 2286, 2287, 2288, 2289, 2290, 2291, 2292, 2293, 2294, 2295, 2296, 2297, 2298, 2299, 2300, 2301, 2302, 2303, 2304, 2305, 2306, 2307, 2308, 2309, 2310, 2311, 2312, 2313, 2314, 2315, 2316, 2317, 2318, 2319, 2320, 2321, 2322, 2323, 2324, 2325, 2326, 2327, 2328, 2329, 2330, 2331, 2332, 2333, 2334, 2335, 2336, 2337, 2338, 2339, 2340, 2341, 2342, 2343, 2344, 2345, 2346, 2347, 2348, 2349, 2350, 2351, 2352, 2353, 2354, 2355, 2356, 2357, 2358, 2359, 2360, 2361, 2362, 2363, 2364, 2365, 2366, 2367, 2368, 2369, 2370, 2371, 2372, 2373, 2374, 2375, 2376, 2377, 2378, 2379, 2380, 2381, 2382, 2383, 2384, 2385, 2386, 2387, 2388, 2389, 2390, 2391, 2392, 2393, 2394, 2395, 2396, 2397, 2398, 2399, 2400, 2401, 2402, 2403, 2404, 2405, 2406, 2407, 2408, 2409, 2410, 2411, 2412, 2413, 2414, 2415, 2416, 2417, 2418, 2419, 2420, 2421, 2422, 2423, 2424, 2425, 2426, 2427, 2428, 2429, 2430, 2431, 2432, 2433, 2434, 2435, 2436, 2437, 2438, 2439, 2440, 2441, 2442, 2443, 2444, 2445, 2446, 2447, 2448, 2449, 2450, 2451, 2452, 2453, 2454, 2455, 2456, 2457, 2458, 2459, 2460, 2461, 2462, 2463, 2464, 2465, 2466, 2467, 2468, "
     ]
    },
    {
     "ename": "RecursionError",
     "evalue": "maximum recursion depth exceeded while calling a Python object",
     "output_type": "error",
     "traceback": [
      "\u001b[0;31m---------------------------------------------------------------------------\u001b[0m",
      "\u001b[0;31mRecursionError\u001b[0m                            Traceback (most recent call last)",
      "Input \u001b[0;32mIn [21]\u001b[0m, in \u001b[0;36m<cell line: 4>\u001b[0;34m()\u001b[0m\n\u001b[1;32m      2\u001b[0m     \u001b[38;5;28mprint\u001b[39m(\u001b[38;5;124m\"\u001b[39m\u001b[38;5;132;01m{0}\u001b[39;00m\u001b[38;5;124m, \u001b[39m\u001b[38;5;124m\"\u001b[39m\u001b[38;5;241m.\u001b[39mformat(number), end\u001b[38;5;241m=\u001b[39m\u001b[38;5;124m\"\u001b[39m\u001b[38;5;124m\"\u001b[39m)\n\u001b[1;32m      3\u001b[0m     recursion_depth(number \u001b[38;5;241m+\u001b[39m \u001b[38;5;241m1\u001b[39m)\n\u001b[0;32m----> 4\u001b[0m \u001b[43mrecursion_depth\u001b[49m\u001b[43m(\u001b[49m\u001b[38;5;241;43m0\u001b[39;49m\u001b[43m)\u001b[49m\n",
      "Input \u001b[0;32mIn [21]\u001b[0m, in \u001b[0;36mrecursion_depth\u001b[0;34m(number)\u001b[0m\n\u001b[1;32m      1\u001b[0m \u001b[38;5;28;01mdef\u001b[39;00m \u001b[38;5;21mrecursion_depth\u001b[39m(number):\n\u001b[1;32m      2\u001b[0m     \u001b[38;5;28mprint\u001b[39m(\u001b[38;5;124m\"\u001b[39m\u001b[38;5;132;01m{0}\u001b[39;00m\u001b[38;5;124m, \u001b[39m\u001b[38;5;124m\"\u001b[39m\u001b[38;5;241m.\u001b[39mformat(number), end\u001b[38;5;241m=\u001b[39m\u001b[38;5;124m\"\u001b[39m\u001b[38;5;124m\"\u001b[39m)\n\u001b[0;32m----> 3\u001b[0m     \u001b[43mrecursion_depth\u001b[49m\u001b[43m(\u001b[49m\u001b[43mnumber\u001b[49m\u001b[43m \u001b[49m\u001b[38;5;241;43m+\u001b[39;49m\u001b[43m \u001b[49m\u001b[38;5;241;43m1\u001b[39;49m\u001b[43m)\u001b[49m\n",
      "Input \u001b[0;32mIn [21]\u001b[0m, in \u001b[0;36mrecursion_depth\u001b[0;34m(number)\u001b[0m\n\u001b[1;32m      1\u001b[0m \u001b[38;5;28;01mdef\u001b[39;00m \u001b[38;5;21mrecursion_depth\u001b[39m(number):\n\u001b[1;32m      2\u001b[0m     \u001b[38;5;28mprint\u001b[39m(\u001b[38;5;124m\"\u001b[39m\u001b[38;5;132;01m{0}\u001b[39;00m\u001b[38;5;124m, \u001b[39m\u001b[38;5;124m\"\u001b[39m\u001b[38;5;241m.\u001b[39mformat(number), end\u001b[38;5;241m=\u001b[39m\u001b[38;5;124m\"\u001b[39m\u001b[38;5;124m\"\u001b[39m)\n\u001b[0;32m----> 3\u001b[0m     \u001b[43mrecursion_depth\u001b[49m\u001b[43m(\u001b[49m\u001b[43mnumber\u001b[49m\u001b[43m \u001b[49m\u001b[38;5;241;43m+\u001b[39;49m\u001b[43m \u001b[49m\u001b[38;5;241;43m1\u001b[39;49m\u001b[43m)\u001b[49m\n",
      "    \u001b[0;31m[... skipping similar frames: recursion_depth at line 3 (2466 times)]\u001b[0m\n",
      "Input \u001b[0;32mIn [21]\u001b[0m, in \u001b[0;36mrecursion_depth\u001b[0;34m(number)\u001b[0m\n\u001b[1;32m      1\u001b[0m \u001b[38;5;28;01mdef\u001b[39;00m \u001b[38;5;21mrecursion_depth\u001b[39m(number):\n\u001b[1;32m      2\u001b[0m     \u001b[38;5;28mprint\u001b[39m(\u001b[38;5;124m\"\u001b[39m\u001b[38;5;132;01m{0}\u001b[39;00m\u001b[38;5;124m, \u001b[39m\u001b[38;5;124m\"\u001b[39m\u001b[38;5;241m.\u001b[39mformat(number), end\u001b[38;5;241m=\u001b[39m\u001b[38;5;124m\"\u001b[39m\u001b[38;5;124m\"\u001b[39m)\n\u001b[0;32m----> 3\u001b[0m     \u001b[43mrecursion_depth\u001b[49m\u001b[43m(\u001b[49m\u001b[43mnumber\u001b[49m\u001b[43m \u001b[49m\u001b[38;5;241;43m+\u001b[39;49m\u001b[43m \u001b[49m\u001b[38;5;241;43m1\u001b[39;49m\u001b[43m)\u001b[49m\n",
      "Input \u001b[0;32mIn [21]\u001b[0m, in \u001b[0;36mrecursion_depth\u001b[0;34m(number)\u001b[0m\n\u001b[1;32m      1\u001b[0m \u001b[38;5;28;01mdef\u001b[39;00m \u001b[38;5;21mrecursion_depth\u001b[39m(number):\n\u001b[0;32m----> 2\u001b[0m     \u001b[38;5;28;43mprint\u001b[39;49m\u001b[43m(\u001b[49m\u001b[38;5;124;43m\"\u001b[39;49m\u001b[38;5;132;43;01m{0}\u001b[39;49;00m\u001b[38;5;124;43m, \u001b[39;49m\u001b[38;5;124;43m\"\u001b[39;49m\u001b[38;5;241;43m.\u001b[39;49m\u001b[43mformat\u001b[49m\u001b[43m(\u001b[49m\u001b[43mnumber\u001b[49m\u001b[43m)\u001b[49m\u001b[43m,\u001b[49m\u001b[43m \u001b[49m\u001b[43mend\u001b[49m\u001b[38;5;241;43m=\u001b[39;49m\u001b[38;5;124;43m\"\u001b[39;49m\u001b[38;5;124;43m\"\u001b[39;49m\u001b[43m)\u001b[49m\n\u001b[1;32m      3\u001b[0m     recursion_depth(number \u001b[38;5;241m+\u001b[39m \u001b[38;5;241m1\u001b[39m)\n",
      "File \u001b[0;32m~/miniconda3/lib/python3.9/site-packages/ipykernel/iostream.py:542\u001b[0m, in \u001b[0;36mOutStream.write\u001b[0;34m(self, string)\u001b[0m\n\u001b[1;32m    539\u001b[0m     \u001b[38;5;28;01mraise\u001b[39;00m \u001b[38;5;167;01mValueError\u001b[39;00m(\u001b[38;5;124m\"\u001b[39m\u001b[38;5;124mI/O operation on closed file\u001b[39m\u001b[38;5;124m\"\u001b[39m)\n\u001b[1;32m    540\u001b[0m \u001b[38;5;28;01melse\u001b[39;00m:\n\u001b[0;32m--> 542\u001b[0m     is_child \u001b[38;5;241m=\u001b[39m \u001b[38;5;129;01mnot\u001b[39;00m \u001b[38;5;28;43mself\u001b[39;49m\u001b[38;5;241;43m.\u001b[39;49m\u001b[43m_is_master_process\u001b[49m\u001b[43m(\u001b[49m\u001b[43m)\u001b[49m\n\u001b[1;32m    543\u001b[0m     \u001b[38;5;66;03m# only touch the buffer in the IO thread to avoid races\u001b[39;00m\n\u001b[1;32m    544\u001b[0m     \u001b[38;5;28;01mwith\u001b[39;00m \u001b[38;5;28mself\u001b[39m\u001b[38;5;241m.\u001b[39m_buffer_lock:\n",
      "File \u001b[0;32m~/miniconda3/lib/python3.9/site-packages/ipykernel/iostream.py:430\u001b[0m, in \u001b[0;36mOutStream._is_master_process\u001b[0;34m(self)\u001b[0m\n\u001b[1;32m    429\u001b[0m \u001b[38;5;28;01mdef\u001b[39;00m \u001b[38;5;21m_is_master_process\u001b[39m(\u001b[38;5;28mself\u001b[39m):\n\u001b[0;32m--> 430\u001b[0m     \u001b[38;5;28;01mreturn\u001b[39;00m \u001b[43mos\u001b[49m\u001b[38;5;241;43m.\u001b[39;49m\u001b[43mgetpid\u001b[49m\u001b[43m(\u001b[49m\u001b[43m)\u001b[49m \u001b[38;5;241m==\u001b[39m \u001b[38;5;28mself\u001b[39m\u001b[38;5;241m.\u001b[39m_master_pid\n",
      "\u001b[0;31mRecursionError\u001b[0m: maximum recursion depth exceeded while calling a Python object"
     ]
    }
   ],
   "source": [
    "def recursion_depth(number):\n",
    "    print(\"{0}, \".format(number), end=\"\")\n",
    "    recursion_depth(number + 1)\n",
    "recursion_depth(0)"
   ]
  },
  {
   "cell_type": "markdown",
   "id": "36d3b50a",
   "metadata": {},
   "source": [
    "#### Question 10"
   ]
  },
  {
   "cell_type": "code",
   "execution_count": 22,
   "id": "230ac87e",
   "metadata": {
    "scrolled": true
   },
   "outputs": [
    {
     "data": {
      "text/plain": [
       "['/home/adhrit/Documents/python_exer/github_projects/thinkcspy3-answer-keys/Chapter 18/examples/__init__.py',\n",
       " '/home/adhrit/Documents/python_exer/github_projects/thinkcspy3-answer-keys/Chapter 18/examples/__movie_test.py',\n",
       " '/home/adhrit/Documents/python_exer/github_projects/thinkcspy3-answer-keys/Chapter 18/examples/aacircle.py',\n",
       " '/home/adhrit/Documents/python_exer/github_projects/thinkcspy3-answer-keys/Chapter 18/examples/aliens.py',\n",
       " '/home/adhrit/Documents/python_exer/github_projects/thinkcspy3-answer-keys/Chapter 18/examples/arraydemo.py',\n",
       " '/home/adhrit/Documents/python_exer/github_projects/thinkcspy3-answer-keys/Chapter 18/examples/blend_fill.py',\n",
       " '/home/adhrit/Documents/python_exer/github_projects/thinkcspy3-answer-keys/Chapter 18/examples/blit_blends.py',\n",
       " '/home/adhrit/Documents/python_exer/github_projects/thinkcspy3-answer-keys/Chapter 18/examples/camera.py',\n",
       " '/home/adhrit/Documents/python_exer/github_projects/thinkcspy3-answer-keys/Chapter 18/examples/chimp.py',\n",
       " '/home/adhrit/Documents/python_exer/github_projects/thinkcspy3-answer-keys/Chapter 18/examples/cursors.py',\n",
       " '/home/adhrit/Documents/python_exer/github_projects/thinkcspy3-answer-keys/Chapter 18/examples/data/alien1.gif',\n",
       " '/home/adhrit/Documents/python_exer/github_projects/thinkcspy3-answer-keys/Chapter 18/examples/data/alien1.jpg',\n",
       " '/home/adhrit/Documents/python_exer/github_projects/thinkcspy3-answer-keys/Chapter 18/examples/data/alien1.png',\n",
       " '/home/adhrit/Documents/python_exer/github_projects/thinkcspy3-answer-keys/Chapter 18/examples/data/alien2.gif',\n",
       " '/home/adhrit/Documents/python_exer/github_projects/thinkcspy3-answer-keys/Chapter 18/examples/data/alien2.png',\n",
       " '/home/adhrit/Documents/python_exer/github_projects/thinkcspy3-answer-keys/Chapter 18/examples/data/alien3.gif',\n",
       " '/home/adhrit/Documents/python_exer/github_projects/thinkcspy3-answer-keys/Chapter 18/examples/data/alien3.png',\n",
       " '/home/adhrit/Documents/python_exer/github_projects/thinkcspy3-answer-keys/Chapter 18/examples/data/arraydemo.bmp',\n",
       " '/home/adhrit/Documents/python_exer/github_projects/thinkcspy3-answer-keys/Chapter 18/examples/data/asprite.bmp',\n",
       " '/home/adhrit/Documents/python_exer/github_projects/thinkcspy3-answer-keys/Chapter 18/examples/data/background.gif',\n",
       " '/home/adhrit/Documents/python_exer/github_projects/thinkcspy3-answer-keys/Chapter 18/examples/data/background.png',\n",
       " '/home/adhrit/Documents/python_exer/github_projects/thinkcspy3-answer-keys/Chapter 18/examples/data/blue.mpg',\n",
       " '/home/adhrit/Documents/python_exer/github_projects/thinkcspy3-answer-keys/Chapter 18/examples/data/bomb.gif',\n",
       " '/home/adhrit/Documents/python_exer/github_projects/thinkcspy3-answer-keys/Chapter 18/examples/data/boom.wav',\n",
       " '/home/adhrit/Documents/python_exer/github_projects/thinkcspy3-answer-keys/Chapter 18/examples/data/car_door.wav',\n",
       " '/home/adhrit/Documents/python_exer/github_projects/thinkcspy3-answer-keys/Chapter 18/examples/data/chimp.bmp',\n",
       " '/home/adhrit/Documents/python_exer/github_projects/thinkcspy3-answer-keys/Chapter 18/examples/data/danger.gif',\n",
       " '/home/adhrit/Documents/python_exer/github_projects/thinkcspy3-answer-keys/Chapter 18/examples/data/explosion1.gif',\n",
       " '/home/adhrit/Documents/python_exer/github_projects/thinkcspy3-answer-keys/Chapter 18/examples/data/fist.bmp',\n",
       " '/home/adhrit/Documents/python_exer/github_projects/thinkcspy3-answer-keys/Chapter 18/examples/data/house_lo.mp3',\n",
       " '/home/adhrit/Documents/python_exer/github_projects/thinkcspy3-answer-keys/Chapter 18/examples/data/house_lo.ogg',\n",
       " '/home/adhrit/Documents/python_exer/github_projects/thinkcspy3-answer-keys/Chapter 18/examples/data/house_lo.wav',\n",
       " '/home/adhrit/Documents/python_exer/github_projects/thinkcspy3-answer-keys/Chapter 18/examples/data/liquid.bmp',\n",
       " '/home/adhrit/Documents/python_exer/github_projects/thinkcspy3-answer-keys/Chapter 18/examples/data/midikeys.png',\n",
       " '/home/adhrit/Documents/python_exer/github_projects/thinkcspy3-answer-keys/Chapter 18/examples/data/oldplayer.gif',\n",
       " '/home/adhrit/Documents/python_exer/github_projects/thinkcspy3-answer-keys/Chapter 18/examples/data/player1.gif',\n",
       " '/home/adhrit/Documents/python_exer/github_projects/thinkcspy3-answer-keys/Chapter 18/examples/data/punch.wav',\n",
       " '/home/adhrit/Documents/python_exer/github_projects/thinkcspy3-answer-keys/Chapter 18/examples/data/sans.ttf',\n",
       " '/home/adhrit/Documents/python_exer/github_projects/thinkcspy3-answer-keys/Chapter 18/examples/data/secosmic_lo.wav',\n",
       " '/home/adhrit/Documents/python_exer/github_projects/thinkcspy3-answer-keys/Chapter 18/examples/data/shot.gif',\n",
       " '/home/adhrit/Documents/python_exer/github_projects/thinkcspy3-answer-keys/Chapter 18/examples/data/static.png',\n",
       " '/home/adhrit/Documents/python_exer/github_projects/thinkcspy3-answer-keys/Chapter 18/examples/data/whiff.wav',\n",
       " '/home/adhrit/Documents/python_exer/github_projects/thinkcspy3-answer-keys/Chapter 18/examples/data/yuv_1.pgm',\n",
       " '/home/adhrit/Documents/python_exer/github_projects/thinkcspy3-answer-keys/Chapter 18/examples/eventlist.py',\n",
       " '/home/adhrit/Documents/python_exer/github_projects/thinkcspy3-answer-keys/Chapter 18/examples/fastevents.py',\n",
       " '/home/adhrit/Documents/python_exer/github_projects/thinkcspy3-answer-keys/Chapter 18/examples/fonty.py',\n",
       " '/home/adhrit/Documents/python_exer/github_projects/thinkcspy3-answer-keys/Chapter 18/examples/freetype_misc.py',\n",
       " '/home/adhrit/Documents/python_exer/github_projects/thinkcspy3-answer-keys/Chapter 18/examples/glcube.py',\n",
       " '/home/adhrit/Documents/python_exer/github_projects/thinkcspy3-answer-keys/Chapter 18/examples/headless_no_windows_needed.py',\n",
       " '/home/adhrit/Documents/python_exer/github_projects/thinkcspy3-answer-keys/Chapter 18/examples/liquid.py',\n",
       " '/home/adhrit/Documents/python_exer/github_projects/thinkcspy3-answer-keys/Chapter 18/examples/macosx/aliens_app_example/English.lproj/MainMenu.nib/JavaCompiling.plist',\n",
       " '/home/adhrit/Documents/python_exer/github_projects/thinkcspy3-answer-keys/Chapter 18/examples/macosx/aliens_app_example/English.lproj/MainMenu.nib/_MainMenu_EOArchive_English.java',\n",
       " '/home/adhrit/Documents/python_exer/github_projects/thinkcspy3-answer-keys/Chapter 18/examples/macosx/aliens_app_example/English.lproj/MainMenu.nib/classes.nib',\n",
       " '/home/adhrit/Documents/python_exer/github_projects/thinkcspy3-answer-keys/Chapter 18/examples/macosx/aliens_app_example/English.lproj/MainMenu.nib/info.nib',\n",
       " '/home/adhrit/Documents/python_exer/github_projects/thinkcspy3-answer-keys/Chapter 18/examples/macosx/aliens_app_example/English.lproj/MainMenu.nib/keyedobjects.nib',\n",
       " '/home/adhrit/Documents/python_exer/github_projects/thinkcspy3-answer-keys/Chapter 18/examples/macosx/aliens_app_example/English.lproj/aliens.icns',\n",
       " '/home/adhrit/Documents/python_exer/github_projects/thinkcspy3-answer-keys/Chapter 18/examples/macosx/aliens_app_example/README.txt',\n",
       " '/home/adhrit/Documents/python_exer/github_projects/thinkcspy3-answer-keys/Chapter 18/examples/macosx/aliens_app_example/aliens.py',\n",
       " '/home/adhrit/Documents/python_exer/github_projects/thinkcspy3-answer-keys/Chapter 18/examples/macosx/aliens_app_example/data/alien1.gif',\n",
       " '/home/adhrit/Documents/python_exer/github_projects/thinkcspy3-answer-keys/Chapter 18/examples/macosx/aliens_app_example/data/alien1.jpg',\n",
       " '/home/adhrit/Documents/python_exer/github_projects/thinkcspy3-answer-keys/Chapter 18/examples/macosx/aliens_app_example/data/alien1.png',\n",
       " '/home/adhrit/Documents/python_exer/github_projects/thinkcspy3-answer-keys/Chapter 18/examples/macosx/aliens_app_example/data/alien2.gif',\n",
       " '/home/adhrit/Documents/python_exer/github_projects/thinkcspy3-answer-keys/Chapter 18/examples/macosx/aliens_app_example/data/alien2.png',\n",
       " '/home/adhrit/Documents/python_exer/github_projects/thinkcspy3-answer-keys/Chapter 18/examples/macosx/aliens_app_example/data/alien3.gif',\n",
       " '/home/adhrit/Documents/python_exer/github_projects/thinkcspy3-answer-keys/Chapter 18/examples/macosx/aliens_app_example/data/alien3.png',\n",
       " '/home/adhrit/Documents/python_exer/github_projects/thinkcspy3-answer-keys/Chapter 18/examples/macosx/aliens_app_example/data/arraydemo.bmp',\n",
       " '/home/adhrit/Documents/python_exer/github_projects/thinkcspy3-answer-keys/Chapter 18/examples/macosx/aliens_app_example/data/asprite.bmp',\n",
       " '/home/adhrit/Documents/python_exer/github_projects/thinkcspy3-answer-keys/Chapter 18/examples/macosx/aliens_app_example/data/background.gif',\n",
       " '/home/adhrit/Documents/python_exer/github_projects/thinkcspy3-answer-keys/Chapter 18/examples/macosx/aliens_app_example/data/blue.mpg',\n",
       " '/home/adhrit/Documents/python_exer/github_projects/thinkcspy3-answer-keys/Chapter 18/examples/macosx/aliens_app_example/data/bomb.gif',\n",
       " '/home/adhrit/Documents/python_exer/github_projects/thinkcspy3-answer-keys/Chapter 18/examples/macosx/aliens_app_example/data/boom.wav',\n",
       " '/home/adhrit/Documents/python_exer/github_projects/thinkcspy3-answer-keys/Chapter 18/examples/macosx/aliens_app_example/data/car_door.wav',\n",
       " '/home/adhrit/Documents/python_exer/github_projects/thinkcspy3-answer-keys/Chapter 18/examples/macosx/aliens_app_example/data/chimp.bmp',\n",
       " '/home/adhrit/Documents/python_exer/github_projects/thinkcspy3-answer-keys/Chapter 18/examples/macosx/aliens_app_example/data/danger.gif',\n",
       " '/home/adhrit/Documents/python_exer/github_projects/thinkcspy3-answer-keys/Chapter 18/examples/macosx/aliens_app_example/data/explosion1.gif',\n",
       " '/home/adhrit/Documents/python_exer/github_projects/thinkcspy3-answer-keys/Chapter 18/examples/macosx/aliens_app_example/data/fist.bmp',\n",
       " '/home/adhrit/Documents/python_exer/github_projects/thinkcspy3-answer-keys/Chapter 18/examples/macosx/aliens_app_example/data/house_lo.mp3',\n",
       " '/home/adhrit/Documents/python_exer/github_projects/thinkcspy3-answer-keys/Chapter 18/examples/macosx/aliens_app_example/data/house_lo.ogg',\n",
       " '/home/adhrit/Documents/python_exer/github_projects/thinkcspy3-answer-keys/Chapter 18/examples/macosx/aliens_app_example/data/house_lo.wav',\n",
       " '/home/adhrit/Documents/python_exer/github_projects/thinkcspy3-answer-keys/Chapter 18/examples/macosx/aliens_app_example/data/liquid.bmp',\n",
       " '/home/adhrit/Documents/python_exer/github_projects/thinkcspy3-answer-keys/Chapter 18/examples/macosx/aliens_app_example/data/midikeys.png',\n",
       " '/home/adhrit/Documents/python_exer/github_projects/thinkcspy3-answer-keys/Chapter 18/examples/macosx/aliens_app_example/data/oldplayer.gif',\n",
       " '/home/adhrit/Documents/python_exer/github_projects/thinkcspy3-answer-keys/Chapter 18/examples/macosx/aliens_app_example/data/player1.gif',\n",
       " '/home/adhrit/Documents/python_exer/github_projects/thinkcspy3-answer-keys/Chapter 18/examples/macosx/aliens_app_example/data/punch.wav',\n",
       " '/home/adhrit/Documents/python_exer/github_projects/thinkcspy3-answer-keys/Chapter 18/examples/macosx/aliens_app_example/data/sans.ttf',\n",
       " '/home/adhrit/Documents/python_exer/github_projects/thinkcspy3-answer-keys/Chapter 18/examples/macosx/aliens_app_example/data/secosmic_lo.wav',\n",
       " '/home/adhrit/Documents/python_exer/github_projects/thinkcspy3-answer-keys/Chapter 18/examples/macosx/aliens_app_example/data/shot.gif',\n",
       " '/home/adhrit/Documents/python_exer/github_projects/thinkcspy3-answer-keys/Chapter 18/examples/macosx/aliens_app_example/data/static.png',\n",
       " '/home/adhrit/Documents/python_exer/github_projects/thinkcspy3-answer-keys/Chapter 18/examples/macosx/aliens_app_example/data/whiff.wav',\n",
       " '/home/adhrit/Documents/python_exer/github_projects/thinkcspy3-answer-keys/Chapter 18/examples/macosx/aliens_app_example/data/yuv_1.pgm',\n",
       " '/home/adhrit/Documents/python_exer/github_projects/thinkcspy3-answer-keys/Chapter 18/examples/macosx/aliens_app_example/setup.py',\n",
       " '/home/adhrit/Documents/python_exer/github_projects/thinkcspy3-answer-keys/Chapter 18/examples/macosx/macfont.py',\n",
       " '/home/adhrit/Documents/python_exer/github_projects/thinkcspy3-answer-keys/Chapter 18/examples/mask.py',\n",
       " '/home/adhrit/Documents/python_exer/github_projects/thinkcspy3-answer-keys/Chapter 18/examples/midi.py',\n",
       " '/home/adhrit/Documents/python_exer/github_projects/thinkcspy3-answer-keys/Chapter 18/examples/moveit.py',\n",
       " '/home/adhrit/Documents/python_exer/github_projects/thinkcspy3-answer-keys/Chapter 18/examples/movieplayer.py',\n",
       " '/home/adhrit/Documents/python_exer/github_projects/thinkcspy3-answer-keys/Chapter 18/examples/oldalien.py',\n",
       " '/home/adhrit/Documents/python_exer/github_projects/thinkcspy3-answer-keys/Chapter 18/examples/overlay.py',\n",
       " '/home/adhrit/Documents/python_exer/github_projects/thinkcspy3-answer-keys/Chapter 18/examples/pixelarray.py',\n",
       " '/home/adhrit/Documents/python_exer/github_projects/thinkcspy3-answer-keys/Chapter 18/examples/readme.txt',\n",
       " '/home/adhrit/Documents/python_exer/github_projects/thinkcspy3-answer-keys/Chapter 18/examples/scaletest.py',\n",
       " '/home/adhrit/Documents/python_exer/github_projects/thinkcspy3-answer-keys/Chapter 18/examples/scrap_clipboard.py',\n",
       " '/home/adhrit/Documents/python_exer/github_projects/thinkcspy3-answer-keys/Chapter 18/examples/scroll.py',\n",
       " '/home/adhrit/Documents/python_exer/github_projects/thinkcspy3-answer-keys/Chapter 18/examples/sound.py',\n",
       " '/home/adhrit/Documents/python_exer/github_projects/thinkcspy3-answer-keys/Chapter 18/examples/sound_array_demos.py',\n",
       " '/home/adhrit/Documents/python_exer/github_projects/thinkcspy3-answer-keys/Chapter 18/examples/stars.py',\n",
       " '/home/adhrit/Documents/python_exer/github_projects/thinkcspy3-answer-keys/Chapter 18/examples/testsprite.py',\n",
       " '/home/adhrit/Documents/python_exer/github_projects/thinkcspy3-answer-keys/Chapter 18/examples/vgrade.py']"
      ]
     },
     "execution_count": 22,
     "metadata": {},
     "output_type": "execute_result"
    }
   ],
   "source": [
    "def print_paths(path):\n",
    "    directories = os.listdir(path)\n",
    "    directories.sort()\n",
    "    result = []\n",
    "    for element in directories:\n",
    "        fullname = os.path.join(path, element)\n",
    "        if os.path.isdir(fullname):\n",
    "            result += print_paths(fullname)\n",
    "        else:\n",
    "            result.append(fullname)\n",
    "    return result\n",
    "\n",
    "print_paths(\"/home/adhrit/Documents/python_exer/github_projects/thinkcspy3-answer-keys/Chapter 18/examples/\")"
   ]
  },
  {
   "cell_type": "markdown",
   "id": "cbe09622",
   "metadata": {},
   "source": [
    "#### Question 11"
   ]
  },
  {
   "cell_type": "code",
   "execution_count": 26,
   "id": "0dc94fac",
   "metadata": {},
   "outputs": [
    {
     "name": "stdout",
     "output_type": "stream",
     "text": [
      "After running litter.py and before running cleanup.py: ['/home/adhrit/Documents/python_exer/github_projects/thinkcspy3-answer-keys/Chapter 18/examples/.ipynb_checkpoints/trash.txt', '/home/adhrit/Documents/python_exer/github_projects/thinkcspy3-answer-keys/Chapter 18/examples/data/trash.txt', '/home/adhrit/Documents/python_exer/github_projects/thinkcspy3-answer-keys/Chapter 18/examples/macosx/aliens_app_example/English.lproj/MainMenu.nib/trash.txt', '/home/adhrit/Documents/python_exer/github_projects/thinkcspy3-answer-keys/Chapter 18/examples/macosx/aliens_app_example/English.lproj/trash.txt', '/home/adhrit/Documents/python_exer/github_projects/thinkcspy3-answer-keys/Chapter 18/examples/macosx/aliens_app_example/data/trash.txt', '/home/adhrit/Documents/python_exer/github_projects/thinkcspy3-answer-keys/Chapter 18/examples/macosx/aliens_app_example/trash.txt', '/home/adhrit/Documents/python_exer/github_projects/thinkcspy3-answer-keys/Chapter 18/examples/macosx/trash.txt']\n"
     ]
    }
   ],
   "source": [
    "%run litter.py\n",
    "files_containing_trash = []\n",
    "for file in print_paths(\"/home/adhrit/Documents/python_exer/github_projects/thinkcspy3-answer-keys/Chapter 18/examples/\"):\n",
    "    if \"trash.txt\" in file:\n",
    "        files_containing_trash.append(file)\n",
    "print(\"After running litter.py and before running cleanup.py: {0}\".format(files_containing_trash))"
   ]
  },
  {
   "cell_type": "code",
   "execution_count": 27,
   "id": "44b132c3",
   "metadata": {
    "scrolled": false
   },
   "outputs": [
    {
     "name": "stdout",
     "output_type": "stream",
     "text": [
      "After running litter.py and after running cleanup.py: []\n"
     ]
    }
   ],
   "source": [
    "%run cleanup.py\n",
    "files_containing_trash = []\n",
    "for file in print_paths(\"/home/adhrit/Documents/python_exer/github_projects/thinkcspy3-answer-keys/Chapter 18/examples/\"):\n",
    "    if \"trash.txt\" in file:\n",
    "        files_containing_trash.append(file)\n",
    "print(\"After running litter.py and after running cleanup.py: {0}\".format(files_containing_trash))"
   ]
  }
 ],
 "metadata": {
  "kernelspec": {
   "display_name": "Python 3 (ipykernel)",
   "language": "python",
   "name": "python3"
  },
  "language_info": {
   "codemirror_mode": {
    "name": "ipython",
    "version": 3
   },
   "file_extension": ".py",
   "mimetype": "text/x-python",
   "name": "python",
   "nbconvert_exporter": "python",
   "pygments_lexer": "ipython3",
   "version": "3.9.12"
  }
 },
 "nbformat": 4,
 "nbformat_minor": 5
}
