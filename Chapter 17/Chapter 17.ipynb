{
 "cells": [
  {
   "cell_type": "markdown",
   "id": "170f3139",
   "metadata": {},
   "source": [
    "## CHAPTER SEVENTEEN\n",
    "# PYGAME "
   ]
  },
  {
   "cell_type": "markdown",
   "id": "a45de7b3",
   "metadata": {},
   "source": [
    "### Exercises"
   ]
  },
  {
   "cell_type": "markdown",
   "id": "0c9d7b56",
   "metadata": {},
   "source": [
    "#### Question 2"
   ]
  },
  {
   "cell_type": "code",
   "execution_count": 1,
   "id": "ff00374b",
   "metadata": {},
   "outputs": [
    {
     "name": "stdout",
     "output_type": "stream",
     "text": [
      "pygame 2.1.2 (SDL 2.0.16, Python 3.9.12)\n",
      "Hello from the pygame community. https://www.pygame.org/contribute.html\n"
     ]
    }
   ],
   "source": [
    "%run Chapter-17-Question-2.py"
   ]
  },
  {
   "cell_type": "markdown",
   "id": "5c63d1e6",
   "metadata": {},
   "source": [
    "The bug in the above program was that in the `contains_point` method, the width was set to be the width of the entire spritesheet."
   ]
  },
  {
   "cell_type": "markdown",
   "id": "354033ca",
   "metadata": {},
   "source": [
    "#### Question 3"
   ]
  },
  {
   "cell_type": "code",
   "execution_count": 2,
   "id": "a7d7acd0",
   "metadata": {},
   "outputs": [],
   "source": [
    "%run Chapter-17-Question-3.py"
   ]
  },
  {
   "cell_type": "markdown",
   "id": "fd0f8540",
   "metadata": {},
   "source": [
    "#### Question 4"
   ]
  },
  {
   "cell_type": "code",
   "execution_count": 3,
   "id": "9c7411da",
   "metadata": {},
   "outputs": [],
   "source": [
    "%run Chapter-17-Question-4.py"
   ]
  },
  {
   "cell_type": "markdown",
   "id": "db600dfd",
   "metadata": {},
   "source": [
    "#### Question 5"
   ]
  },
  {
   "cell_type": "code",
   "execution_count": 4,
   "id": "cf59c602",
   "metadata": {},
   "outputs": [],
   "source": [
    "%run Chapter-17-Question-5.py"
   ]
  }
 ],
 "metadata": {
  "kernelspec": {
   "display_name": "Python 3 (ipykernel)",
   "language": "python",
   "name": "python3"
  },
  "language_info": {
   "codemirror_mode": {
    "name": "ipython",
    "version": 3
   },
   "file_extension": ".py",
   "mimetype": "text/x-python",
   "name": "python",
   "nbconvert_exporter": "python",
   "pygments_lexer": "ipython3",
   "version": "3.9.12"
  }
 },
 "nbformat": 4,
 "nbformat_minor": 5
}
