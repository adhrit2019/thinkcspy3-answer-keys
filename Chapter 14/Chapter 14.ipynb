{
 "cells": [
  {
   "cell_type": "markdown",
   "id": "df292e25",
   "metadata": {
    "slideshow": {
     "slide_type": "slide"
    }
   },
   "source": [
    "## CHAPTER 14\n",
    "# LIST ALGORITHMS"
   ]
  },
  {
   "cell_type": "markdown",
   "id": "4b8b0ed2",
   "metadata": {
    "slideshow": {
     "slide_type": "subslide"
    }
   },
   "source": [
    "### Exercises"
   ]
  },
  {
   "cell_type": "markdown",
   "id": "a1d8eb72",
   "metadata": {
    "slideshow": {
     "slide_type": "subslide"
    }
   },
   "source": [
    "#### Question 1"
   ]
  },
  {
   "cell_type": "code",
   "execution_count": 1,
   "id": "239d6944",
   "metadata": {
    "slideshow": {
     "slide_type": "fragment"
    }
   },
   "outputs": [],
   "source": [
    "# (a)\n",
    "def common_merge_pattern(xs, ys):\n",
    "    xi = 0\n",
    "    yi = 0\n",
    "    res = []\n",
    "    while True:\n",
    "        if xi >= len(xs):\n",
    "            return res\n",
    "        if yi >= len(ys):\n",
    "            return res\n",
    "        if xs[xi] in ys:\n",
    "            res.append(xs[xi])\n",
    "        xi += 1"
   ]
  },
  {
   "cell_type": "code",
   "execution_count": 2,
   "id": "5ce0be6f",
   "metadata": {
    "slideshow": {
     "slide_type": "fragment"
    }
   },
   "outputs": [],
   "source": [
    "# (b)\n",
    "def return_items_first_list_merge_pattern(xs, ys):\n",
    "    xi = 0\n",
    "    res = []\n",
    "    while True:\n",
    "        if xi >= len(xs):\n",
    "            res.extend(xs[xi:])\n",
    "            return res\n",
    "\n",
    "        res.append(xs[xi])\n",
    "        xi += 1"
   ]
  },
  {
   "cell_type": "code",
   "execution_count": 3,
   "id": "98d3c8a7",
   "metadata": {
    "slideshow": {
     "slide_type": "fragment"
    }
   },
   "outputs": [],
   "source": [
    "# (c)\n",
    "def return_items_second_list_merge_pattern(xs, ys):\n",
    "    yi = 0\n",
    "    res = []\n",
    "    while True:\n",
    "        if yi >= len(ys):\n",
    "            res.extend(ys[yi:])\n",
    "            return res\n",
    "\n",
    "        res.append(ys[yi])\n",
    "        yi += 1\n"
   ]
  },
  {
   "cell_type": "code",
   "execution_count": 4,
   "id": "03e308aa",
   "metadata": {
    "slideshow": {
     "slide_type": "fragment"
    }
   },
   "outputs": [],
   "source": [
    "# (d)\n",
    "def return_items_either_first_or_second_list_merge_pattern(xs, ys):\n",
    "    xi = 0\n",
    "    yi = 0\n",
    "    res = []\n",
    "    while True:\n",
    "        if xi >= len(xs):\n",
    "            res.extend(xs[:xi])\n",
    "            return res\n",
    "        if yi >= len(ys):\n",
    "            return res\n",
    "        if ys[yi] in xs:\n",
    "            res.append(ys[yi])\n",
    "        yi += 1\n",
    "\n",
    "    "
   ]
  },
  {
   "cell_type": "code",
   "execution_count": 5,
   "id": "d0d2e0a4",
   "metadata": {
    "slideshow": {
     "slide_type": "fragment"
    }
   },
   "outputs": [],
   "source": [
    "# (e)\n",
    "def bagdiff(xs, ys):\n",
    "    xi = 0\n",
    "    yi = 0\n",
    "    res = []\n",
    "    while True:\n",
    "        if xi >= len(xs):\n",
    "            return res\n",
    "        if yi >= len(ys):\n",
    "            res.extend(xs[xi:])\n",
    "            return res\n",
    "        if ys[yi] in xs:\n",
    "            xs.remove(ys[yi])\n",
    "        yi += 1\n"
   ]
  },
  {
   "cell_type": "markdown",
   "id": "be6c8f29",
   "metadata": {},
   "source": [
    "#### Question 2"
   ]
  },
  {
   "cell_type": "code",
   "execution_count": 6,
   "id": "36dbd734",
   "metadata": {},
   "outputs": [],
   "source": [
    "def share_diagonal(x0, y0, x1, y1):\n",
    "    \"\"\" Returns True if points (x0, y0) and (x1, y1) share the same diagonal. \"\"\"\n",
    "    dx = abs(x1 - x0)\n",
    "    dy = abs(y1 - y0)\n",
    "    return dx == dy\n",
    "\n",
    "def col_clashes(bs, c):\n",
    "    \"\"\" Returns True if any queen clashes with other queens to the left of c. \"\"\"\n",
    "    for i in range(c):\n",
    "        if share_diagonal(i, bs[i], c, bs[c]):\n",
    "            return True\n",
    "    return False\n",
    "\n",
    "def has_clashes(bd):\n",
    "    \"\"\" Returns True of bd has any clashes. \"\"\"\n",
    "    for col in range(1, len(bd)):\n",
    "        if col_clashes(bd, col):\n",
    "            return True\n",
    "    return False"
   ]
  },
  {
   "cell_type": "code",
   "execution_count": 7,
   "id": "b4a35234",
   "metadata": {},
   "outputs": [
    {
     "name": "stdout",
     "output_type": "stream",
     "text": [
      "Found solution: [1, 3, 0, 2]; Tries: 1\n",
      "Found solution: [2, 0, 3, 1]; Tries: 3\n",
      "Found solution: [2, 0, 3, 1]; Tries: 10\n",
      "Found solution: [1, 3, 0, 2]; Tries: 3\n",
      "Found solution: [1, 3, 0, 2]; Tries: 33\n",
      "Found solution: [1, 3, 0, 2]; Tries: 2\n",
      "Found solution: [1, 3, 0, 2]; Tries: 13\n",
      "Found solution: [2, 0, 3, 1]; Tries: 5\n",
      "Found solution: [2, 0, 3, 1]; Tries: 34\n",
      "Found solution: [1, 3, 0, 2]; Tries: 28\n"
     ]
    }
   ],
   "source": [
    "def main():\n",
    "    import random\n",
    "    rnd = random.Random()\n",
    "    \n",
    "    bd = [i for i in range(4)]\n",
    "    num_found = 0\n",
    "    tries = 0\n",
    "    while num_found < 10:\n",
    "        rnd.shuffle(bd)\n",
    "        tries += 1\n",
    "        if not has_clashes(bd):\n",
    "            print(f\"Found solution: {bd}; Tries: {tries}\")\n",
    "            tries = 0\n",
    "            num_found += 1\n",
    "\n",
    "main()"
   ]
  },
  {
   "cell_type": "code",
   "execution_count": 8,
   "id": "a5df6b08",
   "metadata": {},
   "outputs": [
    {
     "name": "stdout",
     "output_type": "stream",
     "text": [
      "Found solution: [4, 7, 1, 6, 11, 5, 0, 9, 3, 10, 8, 2]; Tries: 2152\n",
      "Found solution: [3, 11, 7, 4, 10, 1, 5, 9, 0, 6, 8, 2]; Tries: 22408\n",
      "Found solution: [6, 9, 3, 0, 8, 10, 2, 7, 11, 4, 1, 5]; Tries: 23998\n",
      "Found solution: [2, 5, 3, 9, 11, 8, 1, 4, 6, 0, 10, 7]; Tries: 103484\n",
      "Found solution: [3, 6, 10, 5, 11, 4, 0, 7, 9, 1, 8, 2]; Tries: 25242\n",
      "Found solution: [8, 6, 0, 2, 10, 5, 3, 9, 11, 4, 1, 7]; Tries: 27313\n",
      "Found solution: [0, 7, 3, 10, 6, 9, 1, 4, 11, 8, 2, 5]; Tries: 8610\n",
      "Found solution: [4, 6, 10, 3, 5, 11, 8, 1, 7, 2, 0, 9]; Tries: 2598\n",
      "Found solution: [7, 11, 6, 2, 5, 10, 0, 3, 8, 4, 1, 9]; Tries: 963\n",
      "Found solution: [8, 4, 0, 10, 3, 5, 11, 9, 1, 6, 2, 7]; Tries: 16332\n"
     ]
    }
   ],
   "source": [
    "def main():\n",
    "    import random\n",
    "    rnd = random.Random()\n",
    "    \n",
    "    bd = [i for i in range(12)]\n",
    "    num_found = 0\n",
    "    tries = 0\n",
    "    while num_found < 10:\n",
    "        rnd.shuffle(bd)\n",
    "        tries += 1\n",
    "        if not has_clashes(bd):\n",
    "            print(f\"Found solution: {bd}; Tries: {tries}\")\n",
    "            tries = 0\n",
    "            num_found += 1\n",
    "\n",
    "main()"
   ]
  },
  {
   "cell_type": "code",
   "execution_count": 9,
   "id": "8bd8e1d7",
   "metadata": {},
   "outputs": [
    {
     "name": "stdout",
     "output_type": "stream",
     "text": [
      "Found solution: [11, 9, 5, 2, 0, 10, 8, 14, 1, 4, 7, 15, 12, 3, 6, 13]; Tries: 976274\n",
      "Found solution: [6, 9, 5, 8, 1, 14, 2, 7, 10, 0, 11, 15, 4, 12, 3, 13]; Tries: 238520\n",
      "Found solution: [0, 12, 5, 8, 6, 4, 15, 11, 14, 3, 7, 9, 13, 2, 10, 1]; Tries: 1785191\n",
      "Found solution: [4, 7, 10, 8, 5, 14, 1, 9, 2, 6, 3, 11, 15, 12, 0, 13]; Tries: 480452\n",
      "Found solution: [2, 14, 3, 10, 12, 15, 11, 4, 6, 1, 13, 7, 0, 8, 5, 9]; Tries: 1835996\n",
      "Found solution: [1, 7, 2, 12, 15, 9, 0, 4, 13, 11, 6, 14, 10, 5, 3, 8]; Tries: 39448\n",
      "Found solution: [8, 11, 5, 7, 2, 4, 12, 14, 3, 10, 15, 13, 1, 9, 6, 0]; Tries: 716442\n",
      "Found solution: [11, 6, 14, 0, 13, 8, 12, 15, 1, 5, 2, 10, 3, 7, 9, 4]; Tries: 432530\n",
      "Found solution: [12, 3, 8, 6, 2, 15, 10, 14, 7, 5, 1, 11, 13, 0, 9, 4]; Tries: 330575\n",
      "Found solution: [6, 11, 1, 10, 5, 13, 8, 3, 0, 2, 15, 9, 7, 4, 14, 12]; Tries: 324731\n"
     ]
    }
   ],
   "source": [
    "def main():\n",
    "    import random\n",
    "    rnd = random.Random()\n",
    "    \n",
    "    bd = [i for i in range(16)]\n",
    "    num_found = 0\n",
    "    tries = 0\n",
    "    while num_found < 10:\n",
    "        rnd.shuffle(bd)\n",
    "        tries += 1\n",
    "        if not has_clashes(bd):\n",
    "            print(f\"Found solution: {bd}; Tries: {tries}\")\n",
    "            tries = 0\n",
    "            num_found += 1\n",
    "\n",
    "main()"
   ]
  },
  {
   "cell_type": "markdown",
   "id": "9f6fdd63",
   "metadata": {},
   "source": [
    "#### Question 3"
   ]
  },
  {
   "cell_type": "code",
   "execution_count": 10,
   "id": "cdfaabec",
   "metadata": {
    "scrolled": false
   },
   "outputs": [
    {
     "name": "stdout",
     "output_type": "stream",
     "text": [
      "Found solution: [5, 7, 1, 3, 0, 6, 4, 2]; Tries: 164\n",
      "Found solution: [3, 0, 4, 7, 1, 6, 2, 5]; Tries: 1147\n",
      "Found solution: [4, 1, 7, 0, 3, 6, 2, 5]; Tries: 28\n",
      "Found solution: [2, 5, 1, 6, 0, 3, 7, 4]; Tries: 58\n",
      "Found solution: [4, 6, 1, 3, 7, 0, 2, 5]; Tries: 205\n",
      "Found solution: [6, 3, 1, 4, 7, 0, 2, 5]; Tries: 376\n",
      "Found solution: [0, 4, 7, 5, 2, 6, 1, 3]; Tries: 4268\n",
      "Found solution: [1, 4, 6, 0, 2, 7, 5, 3]; Tries: 76\n",
      "Found solution: [2, 6, 1, 7, 5, 3, 0, 4]; Tries: 12\n",
      "Found solution: [5, 1, 6, 0, 2, 4, 7, 3]; Tries: 300\n"
     ]
    }
   ],
   "source": [
    "def main():\n",
    "    import random\n",
    "    rnd = random.Random()\n",
    "\n",
    "    bd = [i for i in range(8)]\n",
    "    num_found = 0\n",
    "    tries = 0\n",
    "    found_bds = []\n",
    "    while num_found < 10:\n",
    "        rnd.shuffle(bd)\n",
    "        tries += 1\n",
    "        if (bd not in found_bds) and (not has_clashes(bd)):\n",
    "            print(f\"Found solution: {bd}; Tries: {tries}\")\n",
    "            tries = 0\n",
    "            num_found += 1\n",
    "            found_bds.append(bd[:])\n",
    "main()"
   ]
  },
  {
   "cell_type": "markdown",
   "id": "6b877d79",
   "metadata": {},
   "source": [
    "#### Question 4"
   ]
  },
  {
   "cell_type": "code",
   "execution_count": 11,
   "id": "89a51bac",
   "metadata": {},
   "outputs": [],
   "source": [
    "# (a)\n",
    "def flip_in_y(solution):\n",
    "    bd = solution[:]\n",
    "    bd.reverse()\n",
    "    return bd"
   ]
  },
  {
   "cell_type": "code",
   "execution_count": 12,
   "id": "a95ff627",
   "metadata": {},
   "outputs": [],
   "source": [
    "# (b)\n",
    "def flip_in_x(solution):\n",
    "    bd = []\n",
    "    for queen in solution:\n",
    "        bd.append(7 - queen)\n",
    "    return bd"
   ]
  },
  {
   "cell_type": "code",
   "execution_count": 13,
   "id": "fe0bb4d4",
   "metadata": {},
   "outputs": [],
   "source": [
    "# (c)\n",
    "def rotate_aclock90(bd, degree=1):\n",
    "    nbd = [0 for i in range(8)]\n",
    "    for i in range(degree):\n",
    "        for col, row in enumerate(bd):\n",
    "            nbd[row] = col\n",
    "        nbd.reverse()\n",
    "        bd = nbd[:]\n",
    "    return nbd"
   ]
  },
  {
   "cell_type": "code",
   "execution_count": 14,
   "id": "d873b824",
   "metadata": {},
   "outputs": [
    {
     "data": {
      "text/plain": [
       "[3, 6, 2, 7, 1, 4, 0, 5]"
      ]
     },
     "execution_count": 14,
     "metadata": {},
     "output_type": "execute_result"
    }
   ],
   "source": [
    "rotate_aclock90([1, 3, 5, 7, 2,  0, 6, 4]) # 90 degrees"
   ]
  },
  {
   "cell_type": "code",
   "execution_count": 15,
   "id": "44ffbfc9",
   "metadata": {
    "scrolled": true
   },
   "outputs": [
    {
     "data": {
      "text/plain": [
       "[3, 1, 7, 5, 0, 2, 4, 6]"
      ]
     },
     "execution_count": 15,
     "metadata": {},
     "output_type": "execute_result"
    }
   ],
   "source": [
    "rotate_aclock90([1, 3, 5, 7, 2, 0, 6, 4], degree=2)# 180 degrees"
   ]
  },
  {
   "cell_type": "code",
   "execution_count": 16,
   "id": "88e1f693",
   "metadata": {
    "scrolled": true
   },
   "outputs": [
    {
     "data": {
      "text/plain": [
       "[2, 7, 3, 6, 0, 5, 1, 4]"
      ]
     },
     "execution_count": 16,
     "metadata": {},
     "output_type": "execute_result"
    }
   ],
   "source": [
    "rotate_aclock90([1, 3, 5, 7, 2, 0, 6, 4], degree=3) # 270 degrees"
   ]
  },
  {
   "cell_type": "code",
   "execution_count": 17,
   "id": "050ea5f8",
   "metadata": {},
   "outputs": [],
   "source": [
    "# (d)\n",
    "def family_solution(solution):\n",
    "    return [solution, \n",
    "            rotate_aclock90(solution, degree=3), \n",
    "            rotate_aclock90(solution, degree=2), \n",
    "            rotate_aclock90(solution),\n",
    "            flip_in_y(solution), \n",
    "            flip_in_y((rotate_aclock90(solution))),\n",
    "            flip_in_x(solution), \n",
    "            flip_in_x(rotate_aclock90(solution))] "
   ]
  },
  {
   "cell_type": "code",
   "execution_count": 18,
   "id": "1e6548d6",
   "metadata": {},
   "outputs": [
    {
     "data": {
      "text/plain": [
       "[[0, 4, 7, 5, 2, 6, 1, 3],\n",
       " [7, 1, 3, 0, 6, 4, 2, 5],\n",
       " [4, 6, 1, 5, 2, 0, 3, 7],\n",
       " [2, 5, 3, 1, 7, 4, 6, 0],\n",
       " [3, 1, 6, 2, 5, 7, 4, 0],\n",
       " [0, 6, 4, 7, 1, 3, 5, 2],\n",
       " [7, 3, 0, 2, 5, 1, 6, 4],\n",
       " [5, 2, 4, 6, 0, 3, 1, 7]]"
      ]
     },
     "execution_count": 18,
     "metadata": {},
     "output_type": "execute_result"
    }
   ],
   "source": [
    "family_solution([0,4,7,5,2,6,1,3])"
   ]
  },
  {
   "cell_type": "code",
   "execution_count": 19,
   "id": "d6f03200",
   "metadata": {
    "scrolled": true
   },
   "outputs": [
    {
     "name": "stdout",
     "output_type": "stream",
     "text": [
      "Found solution: [4, 7, 3, 0, 2, 5, 1, 6]; Tries: 865\n",
      "Found solution: [3, 1, 7, 5, 0, 2, 4, 6]; Tries: 2313\n",
      "Found solution: [4, 6, 0, 3, 1, 7, 5, 2]; Tries: 411\n",
      "Found solution: [7, 2, 0, 5, 1, 4, 6, 3]; Tries: 141\n",
      "Found solution: [4, 2, 0, 5, 7, 1, 3, 6]; Tries: 1002\n",
      "Found solution: [3, 6, 0, 7, 4, 1, 5, 2]; Tries: 357\n",
      "Found solution: [2, 5, 1, 6, 4, 0, 7, 3]; Tries: 1817\n",
      "Found solution: [1, 6, 4, 7, 0, 3, 5, 2]; Tries: 1288\n",
      "Found solution: [6, 2, 7, 1, 4, 0, 5, 3]; Tries: 342\n",
      "Found solution: [4, 6, 3, 0, 2, 7, 5, 1]; Tries: 1780\n"
     ]
    }
   ],
   "source": [
    "# (e)\n",
    "def main():\n",
    "    import random\n",
    "    rnd = random.Random()\n",
    "\n",
    "    bd = [i for i in range(8)]\n",
    "    num_found = 0\n",
    "    tries = 0\n",
    "    found_bds = []\n",
    "    families = []\n",
    "    while num_found < 10:\n",
    "        solution_family = family_solution(found_bds[-1]) if len(found_bds) != 0 else []\n",
    "        solution_family.sort()\n",
    "        families.append(solution_family)\n",
    "        rnd.shuffle(bd)\n",
    "        bd_family = family_solution(bd)\n",
    "        bd_family.sort()\n",
    "        tries += 1\n",
    "        if (bd not in found_bds) and (not has_clashes(bd)) and (bd_family not in families):\n",
    "            print(f\"Found solution: {bd}; Tries: {tries}\")\n",
    "            tries = 0\n",
    "            num_found += 1\n",
    "            found_bds.append(bd[:])\n",
    "main()"
   ]
  },
  {
   "cell_type": "code",
   "execution_count": 20,
   "id": "9946bba3",
   "metadata": {},
   "outputs": [
    {
     "data": {
      "text/plain": [
       "[[4, 5, 6], [1, 2, 3]]"
      ]
     },
     "execution_count": 20,
     "metadata": {},
     "output_type": "execute_result"
    }
   ],
   "source": [
    "a = [[1, 2, 3], [4, 5, 6]]\n",
    "a.sort(reverse=True)\n",
    "a"
   ]
  },
  {
   "cell_type": "markdown",
   "id": "374349ce",
   "metadata": {},
   "source": [
    "#### Question 5"
   ]
  },
  {
   "cell_type": "code",
   "execution_count": 21,
   "id": "22328028",
   "metadata": {},
   "outputs": [],
   "source": [
    "my_tickets = [[ 7, 17, 37, 19, 23, 43],\n",
    "                            [7, 2, 13, 41, 31, 43],\n",
    "                            [2, 5, 7, 11, 13, 17],\n",
    "                            [13, 17, 37, 19, 23, 43]]"
   ]
  },
  {
   "cell_type": "code",
   "execution_count": 22,
   "id": "07891cb9",
   "metadata": {},
   "outputs": [],
   "source": [
    "# (a)\n",
    "def return_lotto_draw():\n",
    "    import random\n",
    "    rnd = random.Random()\n",
    "    return [rnd.randrange(1, 50) for i in range(6)]"
   ]
  },
  {
   "cell_type": "code",
   "execution_count": 23,
   "id": "05c57913",
   "metadata": {},
   "outputs": [],
   "source": [
    "from unit_tester import test"
   ]
  },
  {
   "cell_type": "code",
   "execution_count": 24,
   "id": "7c5f4ea9",
   "metadata": {},
   "outputs": [
    {
     "name": "stdout",
     "output_type": "stream",
     "text": [
      "Test at line 8 passed.\n"
     ]
    }
   ],
   "source": [
    "# (b)\n",
    "def lotto_match(draw, ticket):\n",
    "    res = 0\n",
    "    for num in ticket:\n",
    "        if num in draw:\n",
    "            res += 1\n",
    "    return res\n",
    "test(lotto_match([42,4,7,11,1,13], [2,5,7,11,13,17]) == 3)"
   ]
  },
  {
   "cell_type": "code",
   "execution_count": 25,
   "id": "85307fff",
   "metadata": {},
   "outputs": [
    {
     "name": "stdout",
     "output_type": "stream",
     "text": [
      "Test at line 7 passed.\n"
     ]
    }
   ],
   "source": [
    "# (c)\n",
    "def lotto_matches(draw, tickets):\n",
    "    res = []\n",
    "    for ticket in tickets:\n",
    "        res.append(lotto_match(draw, ticket))\n",
    "    return res\n",
    "test(lotto_matches([42,4,7,11,1,13], my_tickets) == [1,2,3,1])"
   ]
  },
  {
   "cell_type": "code",
   "execution_count": 26,
   "id": "2a5da4eb",
   "metadata": {},
   "outputs": [
    {
     "name": "stdout",
     "output_type": "stream",
     "text": [
      "Test at line 13 passed.\n"
     ]
    }
   ],
   "source": [
    "# (d)\n",
    "def primes_in(nums):\n",
    "    res = 0\n",
    "    for num in nums:\n",
    "        factors = []\n",
    "        for n in range(1, num+1):\n",
    "            if num % n == 0:\n",
    "                factors.append(n)\n",
    "        if len(factors) == 2:\n",
    "            res += 1\n",
    "    return res\n",
    "\n",
    "test(primes_in([42, 4, 7, 11, 1, 13]) == 3)"
   ]
  },
  {
   "cell_type": "code",
   "execution_count": 27,
   "id": "da1407f3",
   "metadata": {},
   "outputs": [
    {
     "name": "stdout",
     "output_type": "stream",
     "text": [
      "Test at line 18 passed.\n"
     ]
    }
   ],
   "source": [
    "# (e)\n",
    "def prime_misses(list_nums):\n",
    "    res = []\n",
    "    for i in range(1, 50):\n",
    "        factors = []\n",
    "        for n in range(1, i + 1):\n",
    "            if i % n == 0:\n",
    "                factors.append(n)\n",
    "        if len(factors) == 2:\n",
    "            count = 0\n",
    "            for l in list_nums:\n",
    "                if i not in l:\n",
    "                    count += 1\n",
    "            if count == len(list_nums):\n",
    "                res.append(i)\n",
    "    return res\n",
    "\n",
    "test(prime_misses(my_tickets) == [3, 29, 47])"
   ]
  },
  {
   "cell_type": "code",
   "execution_count": 28,
   "id": "eaf3d630",
   "metadata": {},
   "outputs": [],
   "source": [
    "# (f)\n",
    "def compare_draws_tickets(tickets, correct_picks):\n",
    "    num_draws = 1\n",
    "    while True:\n",
    "        draw = return_lotto_draw()\n",
    "        if correct_picks in lotto_matches(draw, tickets):\n",
    "            return num_draws\n",
    "        num_draws += 1"
   ]
  },
  {
   "cell_type": "code",
   "execution_count": 29,
   "id": "258a39d3",
   "metadata": {},
   "outputs": [
    {
     "name": "stdout",
     "output_type": "stream",
     "text": [
      "The average number of draws needed are 18.9\n"
     ]
    }
   ],
   "source": [
    "# i.\n",
    "s = 0\n",
    "for i in range(20):\n",
    "    s += compare_draws_tickets(my_tickets, 3)\n",
    "print(\"The average number of draws needed are {0}\".format(s/20))"
   ]
  },
  {
   "cell_type": "code",
   "execution_count": 30,
   "id": "13d074e3",
   "metadata": {},
   "outputs": [
    {
     "name": "stdout",
     "output_type": "stream",
     "text": [
      "The average number of draws needed are 454.85\n"
     ]
    }
   ],
   "source": [
    "# ii.\n",
    "s = 0\n",
    "for i in range(20):\n",
    "    s += compare_draws_tickets(my_tickets, 4)\n",
    "print(\"The average number of draws needed are {0}\".format(s/20))"
   ]
  },
  {
   "cell_type": "code",
   "execution_count": 32,
   "id": "02b07446",
   "metadata": {},
   "outputs": [
    {
     "name": "stdout",
     "output_type": "stream",
     "text": [
      "....................\n",
      "The average number of draws needed are 17315.9\n"
     ]
    }
   ],
   "source": [
    "# iii.\n",
    "s = 0\n",
    "for i in range(20):\n",
    "    s += compare_draws_tickets(my_tickets, 5)\n",
    "    print(\".\", end=\"\")\n",
    "print()\n",
    "print(\"The average number of draws needed are {0}\".format(s/20))"
   ]
  }
 ],
 "metadata": {
  "kernelspec": {
   "display_name": "Python 3 (ipykernel)",
   "language": "python",
   "name": "python3"
  },
  "language_info": {
   "codemirror_mode": {
    "name": "ipython",
    "version": 3
   },
   "file_extension": ".py",
   "mimetype": "text/x-python",
   "name": "python",
   "nbconvert_exporter": "python",
   "pygments_lexer": "ipython3",
   "version": "3.9.12"
  }
 },
 "nbformat": 4,
 "nbformat_minor": 5
}
