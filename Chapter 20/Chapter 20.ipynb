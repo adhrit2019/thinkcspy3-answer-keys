{
 "cells": [
  {
   "cell_type": "markdown",
   "id": "f042d716",
   "metadata": {},
   "source": [
    "## CHAPTER TWENTY\n",
    "# DICTIONARIES"
   ]
  },
  {
   "cell_type": "markdown",
   "id": "281bf392",
   "metadata": {},
   "source": [
    "### Exercises"
   ]
  },
  {
   "cell_type": "code",
   "execution_count": 1,
   "id": "409aac7e",
   "metadata": {},
   "outputs": [],
   "source": [
    "import string\n",
    "from unit_tester import test"
   ]
  },
  {
   "cell_type": "markdown",
   "id": "14fc6abe",
   "metadata": {},
   "source": [
    "#### Question 1"
   ]
  },
  {
   "cell_type": "code",
   "execution_count": 3,
   "id": "56a78513",
   "metadata": {},
   "outputs": [
    {
     "name": "stdout",
     "output_type": "stream",
     "text": [
      "Enter the string: ThiS is String with Upper and lower case Letters\n",
      "a 2\n",
      "c 1\n",
      "d 1\n",
      "e 5\n",
      "g 1\n",
      "h 2\n",
      "i 4\n",
      "l 2\n",
      "n 2\n",
      "o 1\n",
      "p 2\n",
      "r 4\n",
      "s 5\n",
      "t 5\n",
      "u 1\n",
      "w 2\n"
     ]
    }
   ],
   "source": [
    "text = input(\"Enter the string: \").lower()\n",
    "listed_chars = list(text)\n",
    "listed_chars.sort()\n",
    "count_letters = {}\n",
    "for char in listed_chars:\n",
    "    if char not in string.whitespace:\n",
    "        count_letters[char] = count_letters.get(char, 0) + 1\n",
    "for char in count_letters:\n",
    "    print(\"{0} {1}\".format(char, count_letters[char]))"
   ]
  },
  {
   "cell_type": "markdown",
   "id": "dfe267c3",
   "metadata": {},
   "source": [
    "#### Question 2"
   ]
  },
  {
   "cell_type": "code",
   "execution_count": 4,
   "id": "e7edec99",
   "metadata": {},
   "outputs": [],
   "source": [
    "# (a)\n",
    "d = {\"apples\": 15, \"bananas\": 35, \"grapes\": 12}"
   ]
  },
  {
   "cell_type": "code",
   "execution_count": 5,
   "id": "8b8bf7c2",
   "metadata": {},
   "outputs": [
    {
     "data": {
      "text/plain": [
       "35"
      ]
     },
     "execution_count": 5,
     "metadata": {},
     "output_type": "execute_result"
    }
   ],
   "source": [
    "d[\"bananas\"]"
   ]
  },
  {
   "cell_type": "code",
   "execution_count": 6,
   "id": "3d6d34ad",
   "metadata": {},
   "outputs": [],
   "source": [
    "# (b)\n",
    "d[\"oranges\"] = 20"
   ]
  },
  {
   "cell_type": "code",
   "execution_count": 7,
   "id": "dcf1ac98",
   "metadata": {},
   "outputs": [
    {
     "data": {
      "text/plain": [
       "4"
      ]
     },
     "execution_count": 7,
     "metadata": {},
     "output_type": "execute_result"
    }
   ],
   "source": [
    "len(d)"
   ]
  },
  {
   "cell_type": "code",
   "execution_count": 8,
   "id": "ec27abf8",
   "metadata": {},
   "outputs": [
    {
     "data": {
      "text/plain": [
       "True"
      ]
     },
     "execution_count": 8,
     "metadata": {},
     "output_type": "execute_result"
    }
   ],
   "source": [
    "# (c)\n",
    "\"grapes\" in d"
   ]
  },
  {
   "cell_type": "code",
   "execution_count": 9,
   "id": "1e9c3bff",
   "metadata": {},
   "outputs": [
    {
     "ename": "KeyError",
     "evalue": "'pears'",
     "output_type": "error",
     "traceback": [
      "\u001b[0;31m---------------------------------------------------------------------------\u001b[0m",
      "\u001b[0;31mKeyError\u001b[0m                                  Traceback (most recent call last)",
      "Input \u001b[0;32mIn [9]\u001b[0m, in \u001b[0;36m<cell line: 2>\u001b[0;34m()\u001b[0m\n\u001b[1;32m      1\u001b[0m \u001b[38;5;66;03m# (d)\u001b[39;00m\n\u001b[0;32m----> 2\u001b[0m \u001b[43md\u001b[49m\u001b[43m[\u001b[49m\u001b[38;5;124;43m\"\u001b[39;49m\u001b[38;5;124;43mpears\u001b[39;49m\u001b[38;5;124;43m\"\u001b[39;49m\u001b[43m]\u001b[49m\n",
      "\u001b[0;31mKeyError\u001b[0m: 'pears'"
     ]
    }
   ],
   "source": [
    "# (d)\n",
    "d[\"pears\"]"
   ]
  },
  {
   "cell_type": "code",
   "execution_count": 10,
   "id": "763ff99d",
   "metadata": {},
   "outputs": [
    {
     "data": {
      "text/plain": [
       "0"
      ]
     },
     "execution_count": 10,
     "metadata": {},
     "output_type": "execute_result"
    }
   ],
   "source": [
    "# (e)\n",
    "d.get(\"pears\", 0)"
   ]
  },
  {
   "cell_type": "code",
   "execution_count": 11,
   "id": "38fb9a6c",
   "metadata": {},
   "outputs": [
    {
     "name": "stdout",
     "output_type": "stream",
     "text": [
      "['apples', 'bananas', 'grapes', 'oranges']\n"
     ]
    }
   ],
   "source": [
    "# (f)\n",
    "fruits = list(d.keys())\n",
    "fruits.sort()\n",
    "print(fruits)"
   ]
  },
  {
   "cell_type": "code",
   "execution_count": 12,
   "id": "773b3536",
   "metadata": {},
   "outputs": [
    {
     "data": {
      "text/plain": [
       "False"
      ]
     },
     "execution_count": 12,
     "metadata": {},
     "output_type": "execute_result"
    }
   ],
   "source": [
    "# (g)\n",
    "del d[\"apples\"]\n",
    "\"apples\" in d"
   ]
  },
  {
   "cell_type": "code",
   "execution_count": 13,
   "id": "3d67f547",
   "metadata": {},
   "outputs": [
    {
     "name": "stdout",
     "output_type": "stream",
     "text": [
      "Test at line 7 passed.\n",
      "Test at line 8 passed.\n",
      "Test at line 10 passed.\n"
     ]
    }
   ],
   "source": [
    "def add_fruit(inventory, fruit, quantity=0):\n",
    "    inventory[fruit] = inventory.get(fruit, 0) + quantity\n",
    "\n",
    "# Make these tests work...\n",
    "new_inventory = {}\n",
    "add_fruit(new_inventory, \"strawberries\", 10)\n",
    "test(\"strawberries\" in new_inventory)\n",
    "test(new_inventory[\"strawberries\"] == 10)\n",
    "add_fruit(new_inventory, \"strawberries\", 25)\n",
    "test(new_inventory[\"strawberries\"] == 35)"
   ]
  },
  {
   "cell_type": "markdown",
   "id": "6ae5660c",
   "metadata": {},
   "source": [
    "#### Question 3"
   ]
  },
  {
   "cell_type": "code",
   "execution_count": 14,
   "id": "c60dc5bf",
   "metadata": {},
   "outputs": [],
   "source": [
    "%run alice_words.py"
   ]
  },
  {
   "cell_type": "markdown",
   "id": "ceec102f",
   "metadata": {},
   "source": [
    "The word `alice` occurs 385 times."
   ]
  },
  {
   "cell_type": "markdown",
   "id": "e3f98cc6",
   "metadata": {},
   "source": [
    "#### Question 4"
   ]
  },
  {
   "cell_type": "code",
   "execution_count": 15,
   "id": "f7da5207",
   "metadata": {},
   "outputs": [
    {
     "name": "stdout",
     "output_type": "stream",
     "text": [
      "The longest word is importantunimportantunimportantimportant whose length is 40.\n"
     ]
    }
   ],
   "source": [
    "ThiS is String with Upper and lower case Lettersfile = open(\"alice_in_wonderland.txt\", \"r\")\n",
    "words = file.read()\n",
    "file.close()\n",
    "\n",
    "book_words = words.lower().split()\n",
    "formatted_words = []\n",
    "for word in book_words:\n",
    "    formatted_word = ''\n",
    "    for char in word:\n",
    "        if not (char in string.punctuation or char in string.digits):\n",
    "            formatted_word += char\n",
    "    if formatted_word != '':\n",
    "        formatted_words.append(formatted_word)\n",
    "        \n",
    "long_word_len = 0\n",
    "long_word = \"\"\n",
    "for word in formatted_words:\n",
    "    if len(word) > long_word_len:\n",
    "        long_word_len = len(word)\n",
    "        long_word = word\n",
    "        \n",
    "print(\"The longest word is {0} whose length is {1}.\".format(long_word, long_word_len))"
   ]
  }
 ],
 "metadata": {
  "kernelspec": {
   "display_name": "Python 3 (ipykernel)",
   "language": "python",
   "name": "python3"
  },
  "language_info": {
   "codemirror_mode": {
    "name": "ipython",
    "version": 3
   },
   "file_extension": ".py",
   "mimetype": "text/x-python",
   "name": "python",
   "nbconvert_exporter": "python",
   "pygments_lexer": "ipython3",
   "version": "3.9.12"
  }
 },
 "nbformat": 4,
 "nbformat_minor": 5
}
