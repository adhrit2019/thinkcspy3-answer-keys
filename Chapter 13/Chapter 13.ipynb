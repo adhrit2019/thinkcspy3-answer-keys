{
 "cells": [
  {
   "cell_type": "markdown",
   "metadata": {},
   "source": [
    "## CHAPTER THIRTEEN\n",
    "# FILES"
   ]
  },
  {
   "cell_type": "markdown",
   "metadata": {},
   "source": [
    "### Exercises"
   ]
  },
  {
   "cell_type": "markdown",
   "metadata": {},
   "source": [
    "#### Question 1"
   ]
  },
  {
   "cell_type": "code",
   "execution_count": 3,
   "metadata": {},
   "outputs": [],
   "source": [
    "myfile = open(\"tounge-twister-Question-1.txt\", \"r\")\n",
    "lines = myfile.readlines()\n",
    "lines.reverse()\n",
    "myfile.close()\n",
    "\n",
    "newfile = open(\"rev-tounge-twister-Question-1.txt\", \"w\")\n",
    "for line in lines:\n",
    "    newfile.write(line)\n",
    "newfile.close()"
   ]
  },
  {
   "cell_type": "markdown",
   "metadata": {},
   "source": [
    "#### Question 2"
   ]
  },
  {
   "cell_type": "code",
   "execution_count": 4,
   "metadata": {},
   "outputs": [
    {
     "name": "stdout",
     "output_type": "stream",
     "text": [
      "A snake is a reptile.\n",
      "\n",
      "The largest snake is the anaconda.\n",
      "\n",
      "The most venomous snake is the inland taipan.\n",
      "\n",
      "Some of the snakes are so small.\n",
      "\n",
      "Texas blind snake.\n"
     ]
    }
   ],
   "source": [
    "myfile = open(\"snake-Question-2.txt\", \"r\")\n",
    "\n",
    "while True:\n",
    "    line = myfile.readline()\n",
    "    if line == '':\n",
    "        break\n",
    "        \n",
    "    if 'snake' in line:\n",
    "        print(line)\n",
    "        \n",
    "myfile.close()"
   ]
  },
  {
   "cell_type": "markdown",
   "metadata": {},
   "source": [
    "#### Question 3"
   ]
  },
  {
   "cell_type": "code",
   "execution_count": 9,
   "metadata": {},
   "outputs": [],
   "source": [
    "from unit_tester import test"
   ]
  },
  {
   "cell_type": "code",
   "execution_count": 14,
   "metadata": {},
   "outputs": [
    {
     "name": "stdout",
     "output_type": "stream",
     "text": [
      "0001 foo\n",
      "0002 bar\n",
      "0003 baz\n",
      "0004 quz\n",
      "0005 que\n",
      "\n"
     ]
    }
   ],
   "source": [
    "def number_files(infile, outfile):\n",
    "    myfile = open(infile, \"r\")\n",
    "    lines = myfile.readlines()\n",
    "\n",
    "    content = \"\"\n",
    "    newfile = open(outfile, \"w\")\n",
    "    for line in lines:\n",
    "        newline = \"{0:04} \".format(lines.index(line) + 1) + line\n",
    "        content += newline\n",
    "        newfile.write(newline)\n",
    "\n",
    "    newfile.close()\n",
    "    myfile.close()\n",
    "    \n",
    "    return content\n",
    "    \n",
    "    \n",
    "print(number_files(\"file-to-number-Question-3.txt\", \"numbered-file-Question-3.txt\"))"
   ]
  },
  {
   "cell_type": "code",
   "execution_count": 13,
   "metadata": {},
   "outputs": [
    {
     "name": "stdout",
     "output_type": "stream",
     "text": [
      "Test at line 1 passed.\n"
     ]
    }
   ],
   "source": [
    "test(number_files(\"file-to-number-Question-3.txt\", \"numbered-file-Question-3.txt\")[:3] == \"000\")"
   ]
  },
  {
   "cell_type": "markdown",
   "metadata": {},
   "source": [
    "#### Question 4"
   ]
  },
  {
   "cell_type": "code",
   "execution_count": 17,
   "metadata": {},
   "outputs": [
    {
     "name": "stdout",
     "output_type": "stream",
     "text": [
      "foo\n",
      "bar\n",
      "baz\n",
      "quz\n",
      "que\n",
      "\n"
     ]
    }
   ],
   "source": [
    "def undo_number_lines(infile, outfile):\n",
    "    myfile = open(infile, \"r\")\n",
    "    newfile = open(outfile, \"w\")\n",
    "    content = \"\"\n",
    "    for line in myfile.readlines():\n",
    "        content += line[5:]\n",
    "        newfile.write(line[5:])\n",
    "    myfile.close()\n",
    "    newfile.close()\n",
    "    \n",
    "    return content\n",
    "\n",
    "print(undo_number_lines(\"numbered-file-Question-4.txt\", \"undone-numbered-file-Question-4.txt\"))"
   ]
  }
 ],
 "metadata": {
  "kernelspec": {
   "display_name": "Python 3 (ipykernel)",
   "language": "python",
   "name": "python3"
  },
  "language_info": {
   "codemirror_mode": {
    "name": "ipython",
    "version": 3
   },
   "file_extension": ".py",
   "mimetype": "text/x-python",
   "name": "python",
   "nbconvert_exporter": "python",
   "pygments_lexer": "ipython3",
   "version": "3.9.12"
  }
 },
 "nbformat": 4,
 "nbformat_minor": 4
}
