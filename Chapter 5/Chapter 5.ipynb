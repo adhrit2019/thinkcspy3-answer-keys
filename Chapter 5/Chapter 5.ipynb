{
 "cells": [
  {
   "cell_type": "markdown",
   "metadata": {},
   "source": [
    "## CHAPTER FIVE\n",
    "# CONDITIONALS"
   ]
  },
  {
   "cell_type": "markdown",
   "metadata": {},
   "source": [
    "### Exercises"
   ]
  },
  {
   "cell_type": "markdown",
   "metadata": {},
   "source": [
    "#### Question 1"
   ]
  },
  {
   "cell_type": "code",
   "execution_count": 2,
   "metadata": {},
   "outputs": [],
   "source": [
    "def day(day_num):\n",
    "    if day_num == 0:\n",
    "        return \"Sunday\"\n",
    "        \n",
    "    elif day_num == 1:\n",
    "        return \"Monday\"\n",
    "        \n",
    "    elif day_num == 2:\n",
    "        return \"Tuesday\"\n",
    "    \n",
    "    elif day_num == 3:\n",
    "        return \"Wednesday\"\n",
    "    \n",
    "    elif day_num == 4:\n",
    "        return \"Thursday\"\n",
    "    \n",
    "    elif day_num == 5:\n",
    "        return \"Friday\"\n",
    "    \n",
    "    elif day_num == 6:\n",
    "        return \"Saturday\""
   ]
  },
  {
   "cell_type": "code",
   "execution_count": 3,
   "metadata": {},
   "outputs": [
    {
     "data": {
      "text/plain": [
       "'Friday'"
      ]
     },
     "execution_count": 3,
     "metadata": {},
     "output_type": "execute_result"
    }
   ],
   "source": [
    "day(5)"
   ]
  },
  {
   "cell_type": "markdown",
   "metadata": {},
   "source": [
    "#### Question 2"
   ]
  },
  {
   "cell_type": "code",
   "execution_count": 8,
   "metadata": {},
   "outputs": [
    {
     "name": "stdout",
     "output_type": "stream",
     "text": [
      "What was the day number when you went to jail? 3\n",
      "How long where you in jail? (in days) 137\n",
      "The day when you will be or were released is/was Sunday\n"
     ]
    }
   ],
   "source": [
    "leaving_day = int(input(\"What was the day number when you went to jail? \"))\n",
    "dur = int(input(\"How long where you in jail? (in days) \"))\n",
    "\n",
    "print(\"The day when you will be or were released is/was \" + day((dur + leaving_day) % 7))"
   ]
  },
  {
   "cell_type": "markdown",
   "metadata": {},
   "source": [
    "#### Question 3"
   ]
  },
  {
   "cell_type": "markdown",
   "metadata": {},
   "source": [
    "The logical opposites of the given conditions are:\n",
    "1. `a <= b`\n",
    "1. `a < b`\n",
    "1. `a < 18 or day != 3`\n",
    "1. `a < 18 or day == 3`"
   ]
  },
  {
   "cell_type": "markdown",
   "metadata": {},
   "source": [
    "#### Question 4"
   ]
  },
  {
   "cell_type": "code",
   "execution_count": 9,
   "metadata": {},
   "outputs": [
    {
     "data": {
      "text/plain": [
       "True"
      ]
     },
     "execution_count": 9,
     "metadata": {},
     "output_type": "execute_result"
    }
   ],
   "source": [
    "# a\n",
    "3 == 3"
   ]
  },
  {
   "cell_type": "code",
   "execution_count": 10,
   "metadata": {},
   "outputs": [
    {
     "data": {
      "text/plain": [
       "False"
      ]
     },
     "execution_count": 10,
     "metadata": {},
     "output_type": "execute_result"
    }
   ],
   "source": [
    "# b\n",
    "3 != 3"
   ]
  },
  {
   "cell_type": "code",
   "execution_count": 11,
   "metadata": {},
   "outputs": [
    {
     "data": {
      "text/plain": [
       "False"
      ]
     },
     "execution_count": 11,
     "metadata": {},
     "output_type": "execute_result"
    }
   ],
   "source": [
    "# c\n",
    "3 >= 4"
   ]
  },
  {
   "cell_type": "code",
   "execution_count": 12,
   "metadata": {},
   "outputs": [
    {
     "data": {
      "text/plain": [
       "False"
      ]
     },
     "execution_count": 12,
     "metadata": {},
     "output_type": "execute_result"
    }
   ],
   "source": [
    "# d\n",
    "not (3 < 4)"
   ]
  },
  {
   "cell_type": "markdown",
   "metadata": {},
   "source": [
    "#### Question 5"
   ]
  },
  {
   "cell_type": "markdown",
   "metadata": {},
   "source": [
    "| p | q | r | (not(p and q)) or r |\n",
    "|---|---|---|:--------------------:\n",
    "| F | F | F |        True         |\n",
    "| F | F | T |        True         |\n",
    "| F | T | F |        True         |\n",
    "| F | T | T |        True         |\n",
    "| T | F | F |        True         |\n",
    "| T | F | T |        True         |\n",
    "| T | T | F |        False        |\n",
    "| T | T | T |        True         |"
   ]
  },
  {
   "cell_type": "markdown",
   "metadata": {},
   "source": [
    "#### Question 6"
   ]
  },
  {
   "cell_type": "code",
   "execution_count": 1,
   "metadata": {},
   "outputs": [],
   "source": [
    "def exam_grade(marks):\n",
    "    if marks >= 75:\n",
    "        return \"First\"\n",
    "    \n",
    "    elif marks >= 70 and marks < 75:\n",
    "        return \"Upper Second\"\n",
    "    \n",
    "    elif marks >= 60 and marks < 70:\n",
    "        return \"Second\"\n",
    "    \n",
    "    elif marks >= 50 and marks < 60:\n",
    "        return \"Third\"\n",
    "    \n",
    "    elif marks >= 45 and marks < 50:\n",
    "        return \"F1 Supp\"\n",
    "    \n",
    "    elif marks >= 40 and marks < 45:\n",
    "        return \"F2\"\n",
    "    \n",
    "    elif marks < 40:\n",
    "        return \"F3\"\n",
    "    "
   ]
  },
  {
   "cell_type": "code",
   "execution_count": 2,
   "metadata": {},
   "outputs": [
    {
     "name": "stdout",
     "output_type": "stream",
     "text": [
      "83 = First\n",
      "75 = First\n",
      "74.9 = Upper Second\n",
      "70 = Upper Second\n",
      "69.9 = Second\n",
      "65 = Second\n",
      "60 = Second\n",
      "59.9 = Third\n",
      "55 = Third\n",
      "50 = Third\n",
      "49.9 = F1 Supp\n",
      "45 = F1 Supp\n",
      "44.9 = F2\n",
      "40 = F2\n",
      "39.9 = F3\n",
      "2 = F3\n",
      "0 = F3\n"
     ]
    }
   ],
   "source": [
    "xs = [83, 75, 74.9, 70, 69.9, 65, 60, 59.9, 55, 50, 49.9, 45, 44.9, 40, 39.9, 2, 0]\n",
    "\n",
    "for i in xs:\n",
    "    print(str(i) + \" = \" + exam_grade(i))"
   ]
  },
  {
   "cell_type": "markdown",
   "metadata": {},
   "source": [
    "#### Question 7"
   ]
  },
  {
   "cell_type": "code",
   "execution_count": 3,
   "metadata": {},
   "outputs": [],
   "source": [
    "%run Chapter-5-Question-7.py"
   ]
  },
  {
   "cell_type": "markdown",
   "metadata": {},
   "source": [
    "#### Question 8"
   ]
  },
  {
   "cell_type": "code",
   "execution_count": 5,
   "metadata": {},
   "outputs": [],
   "source": [
    "%run Chapter-5-Question-8.py"
   ]
  },
  {
   "cell_type": "markdown",
   "metadata": {},
   "source": [
    "#### Question 9"
   ]
  },
  {
   "cell_type": "code",
   "execution_count": 7,
   "metadata": {},
   "outputs": [],
   "source": [
    "%run Chapter-5-Question-9.py"
   ]
  },
  {
   "cell_type": "markdown",
   "metadata": {},
   "source": [
    "#### Question 10"
   ]
  },
  {
   "cell_type": "code",
   "execution_count": 40,
   "metadata": {},
   "outputs": [],
   "source": [
    "def find_hypot(leg1, leg2):\n",
    "    return (leg1**2 + leg2**2) ** 0.5"
   ]
  },
  {
   "cell_type": "code",
   "execution_count": 41,
   "metadata": {},
   "outputs": [
    {
     "data": {
      "text/plain": [
       "5.0"
      ]
     },
     "execution_count": 41,
     "metadata": {},
     "output_type": "execute_result"
    }
   ],
   "source": [
    "find_hypot(3, 4)"
   ]
  },
  {
   "cell_type": "markdown",
   "metadata": {},
   "source": [
    "#### Question 11"
   ]
  },
  {
   "cell_type": "code",
   "execution_count": 42,
   "metadata": {},
   "outputs": [],
   "source": [
    "def is_rightangled(leg1, leg2, hyp):\n",
    "    if abs(((leg1**2 + leg2**2) ** 0.5) - hyp) < 0.000001:\n",
    "        return True\n",
    "    else:\n",
    "        return False"
   ]
  },
  {
   "cell_type": "code",
   "execution_count": 43,
   "metadata": {},
   "outputs": [
    {
     "data": {
      "text/plain": [
       "True"
      ]
     },
     "execution_count": 43,
     "metadata": {},
     "output_type": "execute_result"
    }
   ],
   "source": [
    "is_rightangled(3, 4, 5)"
   ]
  },
  {
   "cell_type": "code",
   "execution_count": 44,
   "metadata": {},
   "outputs": [
    {
     "data": {
      "text/plain": [
       "False"
      ]
     },
     "execution_count": 44,
     "metadata": {},
     "output_type": "execute_result"
    }
   ],
   "source": [
    "is_rightangled(3, 4, 20)"
   ]
  },
  {
   "cell_type": "markdown",
   "metadata": {},
   "source": [
    "#### Question 12"
   ]
  },
  {
   "cell_type": "code",
   "execution_count": 45,
   "metadata": {},
   "outputs": [],
   "source": [
    "def is_rightangled(a, b, c):\n",
    "    if max(a, b, c) == a:\n",
    "        hyp = a\n",
    "        leg1 = b\n",
    "        leg2 = c\n",
    "        \n",
    "    elif max(a, b, c) == b:\n",
    "        hyp = b\n",
    "        leg1 = a\n",
    "        leg2 = c\n",
    "        \n",
    "    elif max(a, b, c) == c:\n",
    "        hyp = c\n",
    "        leg1 = b\n",
    "        leg2 = a\n",
    "    \n",
    "    if abs(((leg1**2 + leg2**2) ** 0.5) - hyp) < 0.000001:\n",
    "        return True\n",
    "    else:\n",
    "        return False"
   ]
  },
  {
   "cell_type": "code",
   "execution_count": 46,
   "metadata": {},
   "outputs": [
    {
     "data": {
      "text/plain": [
       "True"
      ]
     },
     "execution_count": 46,
     "metadata": {},
     "output_type": "execute_result"
    }
   ],
   "source": [
    "is_rightangled(3, 5, 4)"
   ]
  },
  {
   "cell_type": "code",
   "execution_count": 47,
   "metadata": {},
   "outputs": [
    {
     "data": {
      "text/plain": [
       "True"
      ]
     },
     "execution_count": 47,
     "metadata": {},
     "output_type": "execute_result"
    }
   ],
   "source": [
    "is_rightangled(4, 5, 3)"
   ]
  },
  {
   "cell_type": "code",
   "execution_count": 48,
   "metadata": {},
   "outputs": [
    {
     "data": {
      "text/plain": [
       "False"
      ]
     },
     "execution_count": 48,
     "metadata": {},
     "output_type": "execute_result"
    }
   ],
   "source": [
    "is_rightangled(20, 4, 5)"
   ]
  },
  {
   "cell_type": "markdown",
   "metadata": {},
   "source": [
    "#### Question 13"
   ]
  },
  {
   "cell_type": "code",
   "execution_count": 1,
   "metadata": {},
   "outputs": [
    {
     "name": "stdout",
     "output_type": "stream",
     "text": [
      "1.4142135623730951 2.0000000000000004\n"
     ]
    }
   ],
   "source": [
    "import math\n",
    "a = math.sqrt(2.0)\n",
    "print(a, a*a)"
   ]
  },
  {
   "cell_type": "code",
   "execution_count": 2,
   "metadata": {},
   "outputs": [
    {
     "name": "stdout",
     "output_type": "stream",
     "text": [
      "False\n"
     ]
    }
   ],
   "source": [
    "print(a*a == 2.0)"
   ]
  }
 ],
 "metadata": {
  "kernelspec": {
   "display_name": "Python 3",
   "language": "python",
   "name": "python3"
  },
  "language_info": {
   "codemirror_mode": {
    "name": "ipython",
    "version": 3
   },
   "file_extension": ".py",
   "mimetype": "text/x-python",
   "name": "python",
   "nbconvert_exporter": "python",
   "pygments_lexer": "ipython3",
   "version": "3.7.1"
  }
 },
 "nbformat": 4,
 "nbformat_minor": 4
}
