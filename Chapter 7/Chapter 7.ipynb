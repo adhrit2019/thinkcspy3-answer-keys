{
 "cells": [
  {
   "cell_type": "markdown",
   "metadata": {},
   "source": [
    "## CHAPTER SEVEN\n",
    "# ITERATION"
   ]
  },
  {
   "cell_type": "markdown",
   "metadata": {},
   "source": [
    "### Exercises"
   ]
  },
  {
   "cell_type": "markdown",
   "metadata": {},
   "source": [
    "#### Question 1"
   ]
  },
  {
   "cell_type": "code",
   "execution_count": 6,
   "metadata": {},
   "outputs": [],
   "source": [
    "def count_odd(l):\n",
    "    \"\"\"Returns the number of odd number in a list.\"\"\"\n",
    "    \n",
    "    count = 0\n",
    "    for i in l:\n",
    "        if i % 2 == 0:\n",
    "            continue\n",
    "        count += 1\n",
    "    return count"
   ]
  },
  {
   "cell_type": "code",
   "execution_count": 7,
   "metadata": {},
   "outputs": [
    {
     "data": {
      "text/plain": [
       "2"
      ]
     },
     "execution_count": 7,
     "metadata": {},
     "output_type": "execute_result"
    }
   ],
   "source": [
    "count_odd([1, 2, 3])"
   ]
  },
  {
   "cell_type": "markdown",
   "metadata": {},
   "source": [
    "#### Question 2"
   ]
  },
  {
   "cell_type": "code",
   "execution_count": 3,
   "metadata": {},
   "outputs": [],
   "source": [
    "def sum_even(l):\n",
    "    \"\"\"Returns the sum of even numbers in a list.\"\"\"\n",
    "    \n",
    "    even_sum = 0\n",
    "    for i in l:\n",
    "        if i % 2 == 1:\n",
    "            continue\n",
    "        even_sum += i\n",
    "    return even_sum"
   ]
  },
  {
   "cell_type": "code",
   "execution_count": 4,
   "metadata": {},
   "outputs": [
    {
     "data": {
      "text/plain": [
       "12"
      ]
     },
     "execution_count": 4,
     "metadata": {},
     "output_type": "execute_result"
    }
   ],
   "source": [
    "sum_even([1, 2, 3, 4, 5, 6])"
   ]
  },
  {
   "cell_type": "markdown",
   "metadata": {},
   "source": [
    "#### Question 3"
   ]
  },
  {
   "cell_type": "code",
   "execution_count": 7,
   "metadata": {},
   "outputs": [],
   "source": [
    "def neg_sum(l):\n",
    "    \"\"\"Returns the sum of all the negative numbers in the list.\"\"\"\n",
    "    \n",
    "    neg_sum = 0\n",
    "    for i in l:\n",
    "        if i >= 0:\n",
    "            continue\n",
    "        neg_sum += i\n",
    "    return neg_sum"
   ]
  },
  {
   "cell_type": "code",
   "execution_count": 8,
   "metadata": {},
   "outputs": [
    {
     "data": {
      "text/plain": [
       "-18"
      ]
     },
     "execution_count": 8,
     "metadata": {},
     "output_type": "execute_result"
    }
   ],
   "source": [
    "neg_sum([-3, -2, -1, 0, 12, -12])"
   ]
  },
  {
   "cell_type": "markdown",
   "metadata": {},
   "source": [
    "#### Question 4"
   ]
  },
  {
   "cell_type": "code",
   "execution_count": 9,
   "metadata": {},
   "outputs": [],
   "source": [
    "def count_words_with_5(l):\n",
    "    \"\"\"Returns the number words with 5 letters.\"\"\"\n",
    "    \n",
    "    count = 0\n",
    "    for i in l:\n",
    "        if len(i) > 5 or len(i) < 5:\n",
    "            continue\n",
    "        count += 1\n",
    "    return count"
   ]
  },
  {
   "cell_type": "code",
   "execution_count": 10,
   "metadata": {},
   "outputs": [
    {
     "data": {
      "text/plain": [
       "2"
      ]
     },
     "execution_count": 10,
     "metadata": {},
     "output_type": "execute_result"
    }
   ],
   "source": [
    "count_words_with_5([\"hello\", \"world\", \"and\", \"my\", \"computer\"])"
   ]
  },
  {
   "cell_type": "markdown",
   "metadata": {},
   "source": [
    "#### Question 5"
   ]
  },
  {
   "cell_type": "code",
   "execution_count": 11,
   "metadata": {},
   "outputs": [],
   "source": [
    "def sum_till_even(l):\n",
    "    \"\"\"Returns the sum of all the elements in the list upto but not including the first even number.\"\"\"\n",
    "    \n",
    "    s = 0\n",
    "    for i in l:\n",
    "        if i % 2 == 0:\n",
    "            break\n",
    "        s += i\n",
    "    \n",
    "    return s"
   ]
  },
  {
   "cell_type": "code",
   "execution_count": 3,
   "metadata": {},
   "outputs": [],
   "source": [
    "import sys\n",
    "\n",
    "def test(did_pass):\n",
    "    linenum = sys._getframe(1).f_lineno\n",
    "    if did_pass:\n",
    "        print(\"Test at line number\", linenum, \"passed.\")\n",
    "    else:\n",
    "        print(\"Test at line number\", linenum, \"failed.\")"
   ]
  },
  {
   "cell_type": "code",
   "execution_count": 13,
   "metadata": {},
   "outputs": [
    {
     "name": "stdout",
     "output_type": "stream",
     "text": [
      "Test at line number 1 passed.\n",
      "Test at line number 2 passed.\n"
     ]
    }
   ],
   "source": [
    "test(sum_till_even([1, 3, 5, 4, 7, 9, 11, 15, 7, 12, 14]) == 9)\n",
    "test(sum_till_even([1, 3, 5, 47, 9, 11, 15, 7]) == 98)"
   ]
  },
  {
   "cell_type": "markdown",
   "metadata": {},
   "source": [
    "#### Question 6"
   ]
  },
  {
   "cell_type": "code",
   "execution_count": 16,
   "metadata": {},
   "outputs": [],
   "source": [
    "def count_till_sam(l):\n",
    "    \"\"\"Returns the number of words in a list upto and including the word 'sam'.\"\"\"\n",
    "    \n",
    "    count = 0\n",
    "    for i in l:\n",
    "        count += 1\n",
    "        if i == \"sam\":\n",
    "            break\n",
    "    \n",
    "    return count\n",
    "            "
   ]
  },
  {
   "cell_type": "code",
   "execution_count": 17,
   "metadata": {},
   "outputs": [
    {
     "name": "stdout",
     "output_type": "stream",
     "text": [
      "Test at line number 1 passed.\n",
      "Test at line number 2 passed.\n"
     ]
    }
   ],
   "source": [
    "test(count_till_sam([\"hello\", \"world\", \"of\", \"computers\", \"sam\", \"fred\", \"and\", \"george.\"]) == 5)\n",
    "test(count_till_sam([\"hello\", \"world\", \"of\", \"computers\", \"fred\", \"and\", \"george.\"]) == 7)"
   ]
  },
  {
   "cell_type": "markdown",
   "metadata": {},
   "source": [
    "#### Question 7"
   ]
  },
  {
   "cell_type": "code",
   "execution_count": 23,
   "metadata": {},
   "outputs": [],
   "source": [
    "def sqrt(n):\n",
    "    \"\"\"Returns the nearly accurate square root of n using Newton's method of square roots.\"\"\"\n",
    "    \n",
    "    approx = n/2\n",
    "    while True:\n",
    "        better = (approx + n/approx)/2\n",
    "        print(better)                              # Newly added\n",
    "        if abs(approx - better) < 0.00000001:\n",
    "            return better\n",
    "        approx = better"
   ]
  },
  {
   "cell_type": "code",
   "execution_count": 24,
   "metadata": {},
   "outputs": [
    {
     "name": "stdout",
     "output_type": "stream",
     "text": [
      "7.25\n",
      "5.349137931034482\n",
      "5.011394106532552\n",
      "5.000012953048684\n",
      "5.000000000016778\n",
      "5.0\n"
     ]
    },
    {
     "data": {
      "text/plain": [
       "5.0"
      ]
     },
     "execution_count": 24,
     "metadata": {},
     "output_type": "execute_result"
    }
   ],
   "source": [
    "sqrt(25)"
   ]
  },
  {
   "cell_type": "markdown",
   "metadata": {},
   "source": [
    "#### Question 8"
   ]
  },
  {
   "cell_type": "code",
   "execution_count": 25,
   "metadata": {},
   "outputs": [],
   "source": [
    "def print_multiples(n, high):\n",
    "    for i in range(1, high+1):\n",
    "        print(n * i, end=\"\\t\")\n",
    "    print()"
   ]
  },
  {
   "cell_type": "code",
   "execution_count": 34,
   "metadata": {},
   "outputs": [],
   "source": [
    "def print_mult_table(high):\n",
    "    for i in range(1, high+1):\n",
    "        print_multiples(i, high)"
   ]
  },
  {
   "cell_type": "markdown",
   "metadata": {},
   "source": [
    "In the above version of `print_mult_table`, at line 1, we are defining the function and specifying that this function takes one parameter, `high`. At line 2 we are starting a `for` loop by assigning a loop variable `i` as `range(1, high+1)`. At the loop body, we call the function `print_multiples` with its parameters as `i` and `high`. In the `print_multiples` function, another loop takes place with `i` as it's loop variable, assigned to `range(1, high+1)`. In the loop body, we print the product of `n` and `high` and specify that the print shall end with a tab to make it like a table. As the loop ends we print another line so that when `print_multiples` shall be called again, in the `print_mult_table`, it will start in a new line."
   ]
  },
  {
   "cell_type": "markdown",
   "metadata": {},
   "source": [
    "#### Question 9"
   ]
  },
  {
   "cell_type": "code",
   "execution_count": 38,
   "metadata": {},
   "outputs": [],
   "source": [
    "def print_triangular_numbers(n):\n",
    "    \"\"\"Prints the first n triangular numbers.\"\"\"\n",
    "    \n",
    "    for i in range(1, n+1):\n",
    "        print(str(i) + \"\\t\" + str(int((i*(i+1))/2)))"
   ]
  },
  {
   "cell_type": "code",
   "execution_count": 39,
   "metadata": {},
   "outputs": [
    {
     "name": "stdout",
     "output_type": "stream",
     "text": [
      "1\t1\n",
      "2\t3\n",
      "3\t6\n",
      "4\t10\n",
      "5\t15\n"
     ]
    }
   ],
   "source": [
    "print_triangular_numbers(5)"
   ]
  },
  {
   "cell_type": "markdown",
   "metadata": {},
   "source": [
    "#### Question 10"
   ]
  },
  {
   "cell_type": "code",
   "execution_count": 45,
   "metadata": {},
   "outputs": [],
   "source": [
    "def is_prime(n):\n",
    "    \"\"\"Returns True if n is a prime number and False if it is not.\"\"\"\n",
    "    \n",
    "    num_factors = 0\n",
    "    for i in range(1, n+1):\n",
    "        if n % i == 0:\n",
    "            num_factors += 1\n",
    "    \n",
    "    return num_factors == 2"
   ]
  },
  {
   "cell_type": "code",
   "execution_count": 49,
   "metadata": {},
   "outputs": [
    {
     "name": "stdout",
     "output_type": "stream",
     "text": [
      "Test at line number 1 passed.\n",
      "Test at line number 2 passed.\n",
      "Test at line number 3 passed.\n",
      "Test at line number 4 passed.\n"
     ]
    }
   ],
   "source": [
    "test(is_prime(11))\n",
    "test(not is_prime(35))\n",
    "test(is_prime(19911121))\n",
    "test(not is_prime(20)) # Here 20 is my birth date"
   ]
  },
  {
   "cell_type": "markdown",
   "metadata": {},
   "source": [
    "In a class of 100 students, perhaps there may be 25 students with prime birth dates."
   ]
  },
  {
   "cell_type": "markdown",
   "metadata": {},
   "source": [
    "#### Question 11"
   ]
  },
  {
   "cell_type": "code",
   "execution_count": 58,
   "metadata": {},
   "outputs": [],
   "source": [
    "import turtle\n",
    "wn = turtle.Screen()\n",
    "wn.bgcolor(\"lightblue\")\n",
    "pirate = turtle.Turtle()\n",
    "\n",
    "data = [(160, 20), (-43, 10), (270, 8), (-43, 12)]\n",
    "for (an, st) in data:\n",
    "    pirate.left(an)\n",
    "    pirate.forward(st)\n",
    "\n",
    "wn.mainloop()"
   ]
  },
  {
   "cell_type": "markdown",
   "metadata": {},
   "source": [
    "#### Question 12"
   ]
  },
  {
   "cell_type": "code",
   "execution_count": 70,
   "metadata": {},
   "outputs": [],
   "source": [
    "wn = turtle.Screen()\n",
    "house = turtle.Turtle()\n",
    "house.pensize(5)\n",
    "\n",
    "for (an, st) in [(90, 100), (-90, 100), (-90, 100), (-90, 100), (-135, 141.42), (-135, 100), (-135, 141.42), (-90, 72.1), (-90, 72.1)]:\n",
    "    house.left(an)\n",
    "    house.forward(st)\n",
    "    \n",
    "wn.mainloop()"
   ]
  },
  {
   "cell_type": "markdown",
   "metadata": {},
   "source": [
    "From the given shapes I can say that:\n",
    "* the 1<sup>st</sup> one from the left can be drawn without lifting a pen or without going over an edge more than once\n",
    "* the 2<sup>nd</sup> one from the left can be drawn without lifting a pen or without going over an edge more than once\n",
    "* the 5<sup>th</sup> one from the left can be drawn without lifting a pen or without going over an edge more than once"
   ]
  },
  {
   "cell_type": "markdown",
   "metadata": {},
   "source": [
    "#### Question 14"
   ]
  },
  {
   "cell_type": "code",
   "execution_count": 72,
   "metadata": {},
   "outputs": [],
   "source": [
    "def num_digits(n):\n",
    "    \"\"\"Returns the number of digits in a number.\"\"\"\n",
    "    \n",
    "    count = 0\n",
    "    while n != 0:\n",
    "        count += 1\n",
    "        n //= 10\n",
    "    return count"
   ]
  },
  {
   "cell_type": "code",
   "execution_count": 76,
   "metadata": {},
   "outputs": [
    {
     "data": {
      "text/plain": [
       "3"
      ]
     },
     "execution_count": 76,
     "metadata": {},
     "output_type": "execute_result"
    }
   ],
   "source": [
    "num_digits(123)"
   ]
  },
  {
   "cell_type": "code",
   "execution_count": 77,
   "metadata": {},
   "outputs": [],
   "source": [
    "# Modified version of num_digits\n",
    "def num_digits(n): \n",
    "    \"\"\"Returns the number of digits in a number.\"\"\" \n",
    "\n",
    "    count = 0 \n",
    "    if n == 0: \n",
    "        return 1 \n",
    "\n",
    "    while n != 0: \n",
    "        count += 1 \n",
    "        if n < 0: \n",
    "            n *= -1 \n",
    "        n //= 10 \n",
    "    return count"
   ]
  },
  {
   "cell_type": "code",
   "execution_count": 78,
   "metadata": {},
   "outputs": [
    {
     "name": "stdout",
     "output_type": "stream",
     "text": [
      "Test at line number 1 passed.\n",
      "Test at line number 2 passed.\n"
     ]
    }
   ],
   "source": [
    "test(num_digits(0) == 1)\n",
    "test(num_digits(-12345) == 5)"
   ]
  },
  {
   "cell_type": "markdown",
   "metadata": {},
   "source": [
    "#### Question 15"
   ]
  },
  {
   "cell_type": "code",
   "execution_count": 9,
   "metadata": {},
   "outputs": [],
   "source": [
    "def num_even_digits(n):\n",
    "    \"\"\"Returns the number of even digits in a number.\"\"\"\n",
    "    \n",
    "    count = 0 \n",
    "    if n == 0: \n",
    "        return 1 \n",
    "\n",
    "    while n != 0:\n",
    "        copy_n = n\n",
    "        n //= 10\n",
    "        if (copy_n % 10) % 2 == 1:\n",
    "            continue\n",
    "        count += 1\n",
    "    return count"
   ]
  },
  {
   "cell_type": "code",
   "execution_count": 11,
   "metadata": {},
   "outputs": [
    {
     "name": "stdout",
     "output_type": "stream",
     "text": [
      "Test at line number 1 passed.\n",
      "Test at line number 2 passed.\n",
      "Test at line number 3 passed.\n",
      "Test at line number 4 passed.\n"
     ]
    }
   ],
   "source": [
    "test(num_even_digits(123456) == 3)\n",
    "test(num_even_digits(2468) == 4)\n",
    "test(num_even_digits(1357) == 0)\n",
    "test(num_even_digits(0) == 1)"
   ]
  },
  {
   "cell_type": "markdown",
   "metadata": {},
   "source": [
    "#### Question 16"
   ]
  },
  {
   "cell_type": "code",
   "execution_count": 14,
   "metadata": {},
   "outputs": [],
   "source": [
    "def sum_of_squares(xs):\n",
    "    \"\"\"Returns the sum of the squares of the numbers in the list xs.\"\"\"\n",
    "    \n",
    "    res = 0\n",
    "    for i in xs:\n",
    "        res += i**2\n",
    "    \n",
    "    return res"
   ]
  },
  {
   "cell_type": "code",
   "execution_count": 15,
   "metadata": {},
   "outputs": [
    {
     "name": "stdout",
     "output_type": "stream",
     "text": [
      "Test at line number 1 passed.\n",
      "Test at line number 2 passed.\n",
      "Test at line number 3 passed.\n"
     ]
    }
   ],
   "source": [
    "test(sum_of_squares([2, 3, 4]) == 29)\n",
    "test(sum_of_squares([ ]) == 0)\n",
    "test(sum_of_squares([2, -3, 4]) == 29)"
   ]
  },
  {
   "cell_type": "markdown",
   "metadata": {},
   "source": [
    "#### Question 17"
   ]
  },
  {
   "cell_type": "code",
   "execution_count": 25,
   "metadata": {},
   "outputs": [
    {
     "name": "stdout",
     "output_type": "stream",
     "text": [
      "Will the human play first? Yes\n",
      "Human plays first=True, winner=0 \n",
      "It's your turn.\n",
      "Game drawn!\n",
      "I score 0 and you score 0.\n",
      "You have won 0% of the match.\n",
      "Do you want to play again? Yes\n",
      "Human plays first=False, winner=-1 \n",
      "It's my turn.\n",
      "You win!\n",
      "I score 0 and you score 1.\n",
      "You have won 50% of the match.\n",
      "Do you want to play again? Goodbye\n"
     ]
    }
   ],
   "source": [
    "%run Chapter-7-Question-17.py"
   ]
  },
  {
   "cell_type": "markdown",
   "metadata": {},
   "source": [
    "##### (e)"
   ]
  },
  {
   "cell_type": "markdown",
   "metadata": {},
   "source": [
    "The image below is the flowchart of the logic:\n",
    "![Flowchart](Chapter-7-Question-17-flowchart.png)"
   ]
  }
 ],
 "metadata": {
  "kernelspec": {
   "display_name": "Python 3",
   "language": "python",
   "name": "python3"
  },
  "language_info": {
   "codemirror_mode": {
    "name": "ipython",
    "version": 3
   },
   "file_extension": ".py",
   "mimetype": "text/x-python",
   "name": "python",
   "nbconvert_exporter": "python",
   "pygments_lexer": "ipython3",
   "version": "3.7.1"
  }
 },
 "nbformat": 4,
 "nbformat_minor": 4
}
