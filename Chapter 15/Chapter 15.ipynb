{
 "cells": [
  {
   "cell_type": "markdown",
   "id": "70ad4632",
   "metadata": {},
   "source": [
    "## CHAPTER 15\n",
    "# CLASSES AND OBJECTS - THE BASICS"
   ]
  },
  {
   "cell_type": "markdown",
   "id": "d80383b8",
   "metadata": {},
   "source": [
    "### Exercises"
   ]
  },
  {
   "cell_type": "code",
   "execution_count": 1,
   "id": "b10093d8",
   "metadata": {},
   "outputs": [],
   "source": [
    "class Point:\n",
    "    \"\"\" Create a new Point, at coordinates x, y \"\"\"\n",
    "    def __init__(self, x=0, y=0):\n",
    "        \"\"\" Create a new point at x, y \"\"\"\n",
    "        self.x = x\n",
    "        self.y = y\n",
    "\n",
    "    def distance_from_origin(self):\n",
    "        \"\"\" Compute my distance from the origin \"\"\"\n",
    "        return ((self.x ** 2) + (self.y ** 2)) ** 0.5\n",
    "    \n",
    "    def __str__(self):\n",
    "        return \"({0}, {1})\".format(self.x, self.y)\n",
    "    \n",
    "    def midpoint(p1, p2):\n",
    "        \"\"\" Return the midpoint of points p1 and p2 \"\"\"\n",
    "        mx = (p1.x + p2.x)/2\n",
    "        my = (p1.y + p2.y)/2\n",
    "        return Point(mx, my)\n",
    "    \n",
    "    def halfway(self, target):\n",
    "        \"\"\" Return the halfway point between myself and the target \"\"\"\n",
    "        mx = (self.x + target.x)/2\n",
    "        my = (self.y + target.y)/2\n",
    "        return Point(mx, my)"
   ]
  },
  {
   "cell_type": "markdown",
   "id": "164b69e4",
   "metadata": {},
   "source": [
    "#### Question 1"
   ]
  },
  {
   "cell_type": "code",
   "execution_count": 18,
   "id": "a5c21c85",
   "metadata": {},
   "outputs": [],
   "source": [
    "import math\n",
    "\n",
    "def distance(xy1, xy2):\n",
    "    \"\"\" This function returns the distance between Points xy1 and xy2. \"\"\"\n",
    "    return math.sqrt( (xy2.x - xy1.x)**2 + (xy2.y - xy1.y)**2 )"
   ]
  },
  {
   "cell_type": "markdown",
   "id": "0e68c627",
   "metadata": {},
   "source": [
    "#### Question 2"
   ]
  },
  {
   "cell_type": "code",
   "execution_count": 2,
   "id": "b6cd4a6a",
   "metadata": {},
   "outputs": [],
   "source": [
    "class Point:\n",
    "    \"\"\" Create a new Point, at coordinates x, y \"\"\"\n",
    "    def __init__(self, x=0, y=0):\n",
    "        \"\"\" Create a new point at x, y \"\"\"\n",
    "        self.x = x\n",
    "        self.y = y\n",
    "\n",
    "    def distance_from_origin(self):\n",
    "        \"\"\" Compute my distance from the origin \"\"\"\n",
    "        return ((self.x ** 2) + (self.y ** 2)) ** 0.5\n",
    "    \n",
    "    def __str__(self):\n",
    "        return \"({0}, {1})\".format(self.x, self.y)\n",
    "    \n",
    "    def midpoint(p1, p2):\n",
    "        \"\"\" Return the midpoint of points p1 and p2 \"\"\"\n",
    "        mx = (p1.x + p2.x)/2\n",
    "        my = (p1.y + p2.y)/2\n",
    "        return Point(mx, my)\n",
    "    \n",
    "    def halfway(self, target):\n",
    "        \"\"\" Return the halfway point between myself and the target \"\"\"\n",
    "        mx = (self.x + target.x)/2\n",
    "        my = (self.y + target.y)/2\n",
    "        return Point(mx, my)\n",
    "    \n",
    "    def reflect_x(self):\n",
    "        \"\"\" \n",
    "        Returns a Point which reflects itself with respect to the x axis. Example:\n",
    "        >>> print(Point(3, 4).reflect_x())\n",
    "        (3, -4)\n",
    "        \n",
    "        >>> print(Point(-5, -6).reflect_x())\n",
    "        (-5, 6)\n",
    "        \"\"\"\n",
    "        \n",
    "        return Point(self.x, self.y * -1)"
   ]
  },
  {
   "cell_type": "code",
   "execution_count": 26,
   "id": "8800c280",
   "metadata": {},
   "outputs": [
    {
     "name": "stdout",
     "output_type": "stream",
     "text": [
      "(3, -5)\n"
     ]
    }
   ],
   "source": [
    "print(Point(3, 5).reflect_x())"
   ]
  },
  {
   "cell_type": "markdown",
   "id": "8a9709ec",
   "metadata": {},
   "source": [
    "#### Question 3    "
   ]
  },
  {
   "cell_type": "code",
   "execution_count": 3,
   "id": "9da8558e",
   "metadata": {},
   "outputs": [],
   "source": [
    "class Point:\n",
    "    \"\"\" Create a new Point, at coordinates x, y \"\"\"\n",
    "    def __init__(self, x=0, y=0):\n",
    "        \"\"\" Create a new point at x, y \"\"\"\n",
    "        self.x = x\n",
    "        self.y = y\n",
    "\n",
    "    def distance_from_origin(self):\n",
    "        \"\"\" Compute my distance from the origin \"\"\"\n",
    "        return ((self.x ** 2) + (self.y ** 2)) ** 0.5\n",
    "    \n",
    "    def __str__(self):\n",
    "        return \"({0}, {1})\".format(self.x, self.y)\n",
    "    \n",
    "    def midpoint(p1, p2):\n",
    "        \"\"\" Return the midpoint of points p1 and p2 \"\"\"\n",
    "        mx = (p1.x + p2.x)/2\n",
    "        my = (p1.y + p2.y)/2\n",
    "        return Point(mx, my)\n",
    "    \n",
    "    def halfway(self, target):\n",
    "        \"\"\" Return the halfway point between myself and the target \"\"\"\n",
    "        mx = (self.x + target.x)/2\n",
    "        my = (self.y + target.y)/2\n",
    "        return Point(mx, my)\n",
    "    \n",
    "    def reflect_x(self):\n",
    "        \"\"\" \n",
    "        Returns a Point which reflects itself with respect to the x axis. Example:\n",
    "        >>> print(Point(3, 4).reflect_x())\n",
    "        (3, -4)\n",
    "        \n",
    "        >>> print(Point(-5, -6).reflect_x())\n",
    "        (-5, 6)\n",
    "        \"\"\"\n",
    "        \n",
    "        return Point(self.x, self.y * -1)\n",
    "    \n",
    "    def slope_from_origin(self):\n",
    "        \"\"\" Returns the slope of the line which is connected from the origin to this Point \"\"\"\n",
    "        \n",
    "        return (self.y / self.x)"
   ]
  },
  {
   "cell_type": "markdown",
   "id": "39305a70",
   "metadata": {},
   "source": [
    "The cases in which `self.x` is equal to 0 are the cases which will fail."
   ]
  },
  {
   "cell_type": "markdown",
   "id": "7e435c48",
   "metadata": {},
   "source": [
    "#### Question 4"
   ]
  },
  {
   "cell_type": "code",
   "execution_count": 4,
   "id": "ac36edd2",
   "metadata": {},
   "outputs": [],
   "source": [
    "class Point:\n",
    "    \"\"\" Create a new Point, at coordinates x, y \"\"\"\n",
    "    def __init__(self, x=0, y=0):\n",
    "        \"\"\" Create a new point at x, y \"\"\"\n",
    "        self.x = x\n",
    "        self.y = y\n",
    "\n",
    "    def distance_from_origin(self):\n",
    "        \"\"\" Compute my distance from the origin \"\"\"\n",
    "        return ((self.x ** 2) + (self.y ** 2)) ** 0.5\n",
    "    \n",
    "    def __str__(self):\n",
    "        return \"({0}, {1})\".format(self.x, self.y)\n",
    "    \n",
    "    def midpoint(p1, p2):\n",
    "        \"\"\" Return the midpoint of points p1 and p2 \"\"\"\n",
    "        mx = (p1.x + p2.x)/2\n",
    "        my = (p1.y + p2.y)/2\n",
    "        return Point(mx, my)\n",
    "    \n",
    "    def halfway(self, target):\n",
    "        \"\"\" Return the halfway point between myself and the target \"\"\"\n",
    "        mx = (self.x + target.x)/2\n",
    "        my = (self.y + target.y)/2\n",
    "        return Point(mx, my)\n",
    "    \n",
    "    def reflect_x(self):\n",
    "        \"\"\" \n",
    "        Returns a Point which reflects itself with respect to the x axis. Example:\n",
    "        >>> print(Point(3, 4).reflect_x())\n",
    "        (3, -4)\n",
    "        \n",
    "        >>> print(Point(-5, -6).reflect_x())\n",
    "        (-5, 6)\n",
    "        \"\"\"\n",
    "        \n",
    "        return Point(self.x, self.y * -1)\n",
    "    \n",
    "    def slope_from_origin(self):\n",
    "        \"\"\" Returns the slope of the line which is connected from the origin to this Point \"\"\"\n",
    "        \n",
    "        return (self.y / self.x)\n",
    "    \n",
    "    def get_line_to(self, p):\n",
    "        \"\"\" Returns a tuple which contains the slope and the y-intercept of the joining of this point to p. \"\"\"\n",
    "        \n",
    "        new_p = Point(p.x - self.x, p.y - self.y)\n",
    "        m = new_p.slope_from_origin()\n",
    "        b = self.y - (m * self.x)\n",
    "        \n",
    "        return int(m), int(b)"
   ]
  },
  {
   "cell_type": "markdown",
   "id": "d5b64551",
   "metadata": {},
   "source": [
    "This method will fail when the value of `x` in the `Point` refering to the attribute of the method is 0."
   ]
  },
  {
   "cell_type": "markdown",
   "id": "62a942b9",
   "metadata": {},
   "source": [
    "#### Question 5"
   ]
  },
  {
   "cell_type": "code",
   "execution_count": 9,
   "id": "00bba59b",
   "metadata": {},
   "outputs": [],
   "source": [
    "def midpoint_of_circle(p1, p2, p3, p4):\n",
    "    \"\"\" \n",
    "    Returns the center of the circle given 4 points on it's circumference.\n",
    "    \n",
    "    Acknowlegements: https://en.wikipedia.org/wiki/Circumscribed_circle#Circumcenter_coordinates\n",
    "    \"\"\"\n",
    "    \n",
    "    c = Point()\n",
    "    \n",
    "    D = 2 * (p1.x * (p2.y - p3.y) + p2.x * (p3.y - p1.y) + p3.x * (p1.y - p2.y))\n",
    "    c.x = ((p1.x**2 + p1.y**2)*(p2.y - p3.y) + (p2.x**2  + p2.y**2)*(p3.y - p1.y) + (p3.x**2 +p3.y**2)*(p1.y - p2.y)) / D\n",
    "    c.y = ((p1.x**2 + p1.y**2)*(p3.x - p2.x) + (p2.x**2  + p2.y**2)*(p1.x - p3.x) + (p3.x**2 +p3.y**2)*(p2.x - p1.x)) / D\n",
    "    \n",
    "    return c\n",
    "    "
   ]
  },
  {
   "cell_type": "markdown",
   "id": "025cb48d",
   "metadata": {},
   "source": [
    "This function will fail if two points are the same."
   ]
  },
  {
   "cell_type": "markdown",
   "id": "0eb8eb86",
   "metadata": {},
   "source": [
    "#### Question 6"
   ]
  },
  {
   "cell_type": "code",
   "execution_count": 10,
   "id": "2a546d28",
   "metadata": {},
   "outputs": [],
   "source": [
    "class SMS_store:\n",
    "    \"\"\" \n",
    "    The class will instantiate SMS_store objects, similar to an inbox or outbox on a cellphone. Each message will be represented as a tuple:\n",
    "    (has_been_viewed, from_number, time_arrived, text_of_SMS) \n",
    "    \"\"\"\n",
    "    \n",
    "    def __init__(self):\n",
    "        self.messages = []\n",
    "        \n",
    "    def add_new_arrival(self, from_number, time_arrived, text_of_SMS):\n",
    "        \"\"\" Adds a message to your inbox. \"\"\"\n",
    "        self.messages.append((False, from_number, time_arrived, text_of_SMS))\n",
    "        \n",
    "    def message_count(self):\n",
    "        \"\"\" Returns the number of messages in your inbox. \"\"\"\n",
    "        len(self.messages)\n",
    "        \n",
    "    def get_unread_indexes(self):\n",
    "        \"\"\" Returns list of indexes of all not-yet-viewed SMS messages. \"\"\"\n",
    "        indexes = []\n",
    "        \n",
    "        for message in self.messages:\n",
    "            if not message[0]:\n",
    "                indexes.append(self.messages.index(message))\n",
    "                \n",
    "        return indexes\n",
    "    \n",
    "    def get_message(self, i):\n",
    "        \"\"\" Returns the message at index i. \"\"\"\n",
    "        \n",
    "        return self.messages[i]\n",
    "    \n",
    "    def delete(i):\n",
    "        \"\"\" Deletes the message at index i. \"\"\"\n",
    "        \n",
    "        self.messages.remove(self.messages[i])\n",
    "        \n",
    "    def clear():\n",
    "        \"\"\" Deletes all messages from inbox. \"\"\"\n",
    "        \n",
    "        self.messages = []\n",
    "        "
   ]
  }
 ],
 "metadata": {
  "kernelspec": {
   "display_name": "Python 3 (ipykernel)",
   "language": "python",
   "name": "python3"
  },
  "language_info": {
   "codemirror_mode": {
    "name": "ipython",
    "version": 3
   },
   "file_extension": ".py",
   "mimetype": "text/x-python",
   "name": "python",
   "nbconvert_exporter": "python",
   "pygments_lexer": "ipython3",
   "version": "3.9.12"
  }
 },
 "nbformat": 4,
 "nbformat_minor": 5
}
