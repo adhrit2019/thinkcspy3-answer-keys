{
 "cells": [
  {
   "cell_type": "markdown",
   "id": "a3a65c86",
   "metadata": {},
   "source": [
    "## CHAPTER 16\n",
    "# CLASSES AND OBJECTS - DIGGING A LITTLE DEEPER "
   ]
  },
  {
   "cell_type": "markdown",
   "id": "17fcc99a",
   "metadata": {},
   "source": [
    "### Exercises"
   ]
  },
  {
   "cell_type": "code",
   "execution_count": 2,
   "id": "1884b3f1",
   "metadata": {},
   "outputs": [],
   "source": [
    "from unit_tester import test"
   ]
  },
  {
   "cell_type": "code",
   "execution_count": 6,
   "id": "4c3ccdb8",
   "metadata": {},
   "outputs": [],
   "source": [
    "# Point class\n",
    "class Point:\n",
    "    \"\"\" Create a new Point, at coordinates x, y \"\"\"\n",
    "    def __init__(self, x=0, y=0):\n",
    "        \"\"\" Create a new point at x, y \"\"\"\n",
    "        self.x = x\n",
    "        self.y = y\n",
    "\n",
    "    def distance_from_origin(self):\n",
    "        \"\"\" Compute my distance from the origin \"\"\"\n",
    "        return ((self.x ** 2) + (self.y ** 2)) ** 0.5\n",
    "    \n",
    "    def __str__(self):\n",
    "        return \"({0}, {1})\".format(self.x, self.y)\n",
    "    \n",
    "    def midpoint(p1, p2):\n",
    "        \"\"\" Return the midpoint of points p1 and p2 \"\"\"\n",
    "        mx = (p1.x + p2.x)/2\n",
    "        my = (p1.y + p2.y)/2\n",
    "        return Point(mx, my)\n",
    "    \n",
    "    def halfway(self, target):\n",
    "        \"\"\" Return the halfway point between myself and the target \"\"\"\n",
    "        mx = (self.x + target.x)/2\n",
    "        my = (self.y + target.y)/2\n",
    "        return Point(mx, my)\n",
    "    \n",
    "    def reflect_x(self):\n",
    "        \"\"\" \n",
    "        Returns a Point which reflects itself with respect to the x axis. Example:\n",
    "        >>> print(Point(3, 4).reflect_x())\n",
    "        (3, -4)\n",
    "        \n",
    "        >>> print(Point(-5, -6).reflect_x())\n",
    "        (-5, 6)\n",
    "        \"\"\"\n",
    "        \n",
    "        return Point(self.x, self.y * -1)\n",
    "    \n",
    "    def slope_from_origin(self):\n",
    "        \"\"\" Returns the slope of the line which is connected from the origin to this Point \"\"\"\n",
    "        \n",
    "        return (self.y / self.x)\n",
    "    \n",
    "    def get_line_to(self, p):\n",
    "        \"\"\" Returns a tuple which contains the slope and the y-intercept of the joining of this point to p. \"\"\"\n",
    "        \n",
    "        new_p = Point(p.x - self.x, p.y - self.y)\n",
    "        m = new_p.slope_from_origin()\n",
    "        b = self.y - (m * self.x)\n",
    "        \n",
    "        return int(m), int(b)\n",
    "\n",
    "# Rectangle class\n",
    "class Rectangle:\n",
    "    \"\"\" A class to manufacture rectangle objects \"\"\"\n",
    "\n",
    "    def __init__(self, posn, w, h):\n",
    "        \"\"\" Initialize rectangle at posn, with width w, height h \"\"\"\n",
    "        self.corner = posn\n",
    "        self.width = w\n",
    "        self.height = h\n",
    "\n",
    "    def __str__(self):\n",
    "        return \"({0}, {1}, {2})\" .format(self.corner, self.width, self.height)\n",
    "    \n",
    "    def grow(self, delta_width, delta_height):\n",
    "        \"\"\" Grow (or shrink) this object by the deltas \"\"\"\n",
    "        self.width += delta_width\n",
    "        self.height += delta_height\n",
    "\n",
    "    def move(self, dx, dy):\n",
    "        \"\"\" Move this object by the deltas \"\"\"\n",
    "        self.corner.x += dx\n",
    "        self.corner.y += dy"
   ]
  },
  {
   "cell_type": "markdown",
   "id": "d123b5cb",
   "metadata": {},
   "source": [
    "#### Question 1"
   ]
  },
  {
   "cell_type": "code",
   "execution_count": 8,
   "id": "c9e7c343",
   "metadata": {},
   "outputs": [],
   "source": [
    "class Rectangle:\n",
    "    \"\"\" A class to manufacture rectangle objects \"\"\"\n",
    "\n",
    "    def __init__(self, posn, w, h):\n",
    "        \"\"\" Initialize rectangle at posn, with width w, height h \"\"\"\n",
    "        self.corner = posn\n",
    "        self.width = w\n",
    "        self.height = h\n",
    "\n",
    "    def __str__(self):\n",
    "        return \"({0}, {1}, {2})\" .format(self.corner, self.width, self.height)\n",
    "    \n",
    "    def grow(self, delta_width, delta_height):\n",
    "        \"\"\" Grow (or shrink) this object by the deltas \"\"\"\n",
    "        self.width += delta_width\n",
    "        self.height += delta_height\n",
    "\n",
    "    def move(self, dx, dy):\n",
    "        \"\"\" Move this object by the deltas \"\"\"\n",
    "        self.corner.x += dx\n",
    "        self.corner.y += dy\n",
    "        \n",
    "    def area(self):\n",
    "        \"\"\" Returns the area of this rectangle. \"\"\"\n",
    "        return self.width * self.height"
   ]
  },
  {
   "cell_type": "code",
   "execution_count": 9,
   "id": "f311009b",
   "metadata": {},
   "outputs": [
    {
     "name": "stdout",
     "output_type": "stream",
     "text": [
      "Test at line 2 passed.\n"
     ]
    }
   ],
   "source": [
    "r = Rectangle(Point(0, 0), 10, 5)\n",
    "test(r.area() == 50)"
   ]
  },
  {
   "cell_type": "markdown",
   "id": "22284be4",
   "metadata": {},
   "source": [
    "#### Question 2"
   ]
  },
  {
   "cell_type": "code",
   "execution_count": 10,
   "id": "4708a21b",
   "metadata": {},
   "outputs": [],
   "source": [
    "class Rectangle:\n",
    "    \"\"\" A class to manufacture rectangle objects \"\"\"\n",
    "\n",
    "    def __init__(self, posn, w, h):\n",
    "        \"\"\" Initialize rectangle at posn, with width w, height h \"\"\"\n",
    "        self.corner = posn\n",
    "        self.width = w\n",
    "        self.height = h\n",
    "\n",
    "    def __str__(self):\n",
    "        return \"({0}, {1}, {2})\" .format(self.corner, self.width, self.height)\n",
    "    \n",
    "    def grow(self, delta_width, delta_height):\n",
    "        \"\"\" Grow (or shrink) this object by the deltas \"\"\"\n",
    "        self.width += delta_width\n",
    "        self.height += delta_height\n",
    "\n",
    "    def move(self, dx, dy):\n",
    "        \"\"\" Move this object by the deltas \"\"\"\n",
    "        self.corner.x += dx\n",
    "        self.corner.y += dy\n",
    "        \n",
    "    def area(self):\n",
    "        \"\"\" Returns the area of this rectangle. \"\"\"\n",
    "        return self.width * self.height\n",
    "    \n",
    "    def perimeter(self):\n",
    "        \"\"\" Returns the perimeter of this rectangle. \"\"\"\n",
    "        return 2 * (self.width + self.height)"
   ]
  },
  {
   "cell_type": "code",
   "execution_count": 11,
   "id": "d3d8cba7",
   "metadata": {},
   "outputs": [
    {
     "name": "stdout",
     "output_type": "stream",
     "text": [
      "Test at line 2 passed.\n"
     ]
    }
   ],
   "source": [
    "r = Rectangle(Point(0, 0), 10, 5)\n",
    "test(r.perimeter() == 30)"
   ]
  },
  {
   "cell_type": "markdown",
   "id": "2441da49",
   "metadata": {},
   "source": [
    "#### Question 3"
   ]
  },
  {
   "cell_type": "code",
   "execution_count": 12,
   "id": "626c1620",
   "metadata": {},
   "outputs": [],
   "source": [
    "class Rectangle:\n",
    "    \"\"\" A class to manufacture rectangle objects \"\"\"\n",
    "\n",
    "    def __init__(self, posn, w, h):\n",
    "        \"\"\" Initialize rectangle at posn, with width w, height h \"\"\"\n",
    "        self.corner = posn\n",
    "        self.width = w\n",
    "        self.height = h\n",
    "\n",
    "    def __str__(self):\n",
    "        return \"({0}, {1}, {2})\" .format(self.corner, self.width, self.height)\n",
    "    \n",
    "    def grow(self, delta_width, delta_height):\n",
    "        \"\"\" Grow (or shrink) this object by the deltas \"\"\"\n",
    "        self.width += delta_width\n",
    "        self.height += delta_height\n",
    "\n",
    "    def move(self, dx, dy):\n",
    "        \"\"\" Move this object by the deltas \"\"\"\n",
    "        self.corner.x += dx\n",
    "        self.corner.y += dy\n",
    "        \n",
    "    def area(self):\n",
    "        \"\"\" Returns the area of this rectangle. \"\"\"\n",
    "        return self.width * self.height\n",
    "    \n",
    "    def perimeter(self):\n",
    "        \"\"\" Returns the perimeter of this rectangle. \"\"\"\n",
    "        return 2 * (self.width + self.height)\n",
    "    \n",
    "    def flip(self):\n",
    "        \"\"\" Swaps the width and the height of the rectangle. \"\"\"\n",
    "        (self.width, self.height) = (self.height, self.width)"
   ]
  },
  {
   "cell_type": "code",
   "execution_count": 13,
   "id": "c4987731",
   "metadata": {},
   "outputs": [
    {
     "name": "stdout",
     "output_type": "stream",
     "text": [
      "Test at line 2 passed.\n",
      "Test at line 4 passed.\n"
     ]
    }
   ],
   "source": [
    "r = Rectangle(Point(100, 50), 10, 5)\n",
    "test(r.width == 10 and r.height == 5)\n",
    "r.flip()\n",
    "test(r.width == 5 and r.height == 10)"
   ]
  },
  {
   "cell_type": "markdown",
   "id": "55ed0fbc",
   "metadata": {},
   "source": [
    "#### Question 4"
   ]
  },
  {
   "cell_type": "code",
   "execution_count": 14,
   "id": "e8ba9e16",
   "metadata": {},
   "outputs": [],
   "source": [
    "class Rectangle:\n",
    "    \"\"\" A class to manufacture rectangle objects \"\"\"\n",
    "\n",
    "    def __init__(self, posn, w, h):\n",
    "        \"\"\" Initialize rectangle at posn, with width w, height h \"\"\"\n",
    "        self.corner = posn\n",
    "        self.width = w\n",
    "        self.height = h\n",
    "\n",
    "    def __str__(self):\n",
    "        return \"({0}, {1}, {2})\" .format(self.corner, self.width, self.height)\n",
    "    \n",
    "    def grow(self, delta_width, delta_height):\n",
    "        \"\"\" Grow (or shrink) this object by the deltas \"\"\"\n",
    "        self.width += delta_width\n",
    "        self.height += delta_height\n",
    "\n",
    "    def move(self, dx, dy):\n",
    "        \"\"\" Move this object by the deltas \"\"\"\n",
    "        self.corner.x += dx\n",
    "        self.corner.y += dy\n",
    "        \n",
    "    def area(self):\n",
    "        \"\"\" Returns the area of this rectangle. \"\"\"\n",
    "        return self.width * self.height\n",
    "    \n",
    "    def perimeter(self):\n",
    "        \"\"\" Returns the perimeter of this rectangle. \"\"\"\n",
    "        return 2 * (self.width + self.height)\n",
    "    \n",
    "    def flip(self):\n",
    "        \"\"\" Swaps the width and the height of the rectangle. \"\"\"\n",
    "        (self.width, self.height) = (self.height, self.width)\n",
    "        \n",
    "    def contains(self, point):\n",
    "        \"\"\" Checks if the point is within this rectangle. \"\"\"\n",
    "        return (point.x >= self.corner.x and point.x < (self.width + self.corner.x)) and (point.y >= self.corner.y and point.y < (self.height + self.corner.y))"
   ]
  },
  {
   "cell_type": "code",
   "execution_count": 15,
   "id": "064a715a",
   "metadata": {},
   "outputs": [
    {
     "name": "stdout",
     "output_type": "stream",
     "text": [
      "Test at line 2 passed.\n",
      "Test at line 3 passed.\n",
      "Test at line 4 passed.\n",
      "Test at line 5 passed.\n",
      "Test at line 6 passed.\n",
      "Test at line 7 passed.\n"
     ]
    }
   ],
   "source": [
    "r = Rectangle(Point(0, 0), 10, 5)\n",
    "test(r.contains(Point(0, 0)))\n",
    "test(r.contains(Point(3, 3)))\n",
    "test(not r.contains(Point(3, 7)))\n",
    "test(not r.contains(Point(3, 5)))\n",
    "test(r.contains(Point(3, 4.99999)))\n",
    "test(not r.contains(Point(-3, -3)))"
   ]
  },
  {
   "cell_type": "markdown",
   "id": "5708f28e",
   "metadata": {},
   "source": [
    "#### Question 5"
   ]
  },
  {
   "cell_type": "code",
   "execution_count": 25,
   "id": "99ac503c",
   "metadata": {},
   "outputs": [],
   "source": [
    "def overlaps_rectangle(r1, r2):\n",
    "    \"\"\" Checks if r1 overlaps r2 or vice-versa. \"\"\"\n",
    "    return r1.contains(r2.corner)"
   ]
  },
  {
   "cell_type": "code",
   "execution_count": 26,
   "id": "737cdbf0",
   "metadata": {},
   "outputs": [
    {
     "name": "stdout",
     "output_type": "stream",
     "text": [
      "Test at line 1 passed.\n",
      "Test at line 2 passed.\n"
     ]
    }
   ],
   "source": [
    "test(overlaps_rectangle(Rectangle(Point(0, 0), 10, 5), Rectangle(Point(1, 1), 15, 10)))\n",
    "test(overlaps_rectangle(Rectangle(Point(0, 0), 10, 5), Rectangle(Point(0, 1), 10, 5)))"
   ]
  }
 ],
 "metadata": {
  "kernelspec": {
   "display_name": "Python 3 (ipykernel)",
   "language": "python",
   "name": "python3"
  },
  "language_info": {
   "codemirror_mode": {
    "name": "ipython",
    "version": 3
   },
   "file_extension": ".py",
   "mimetype": "text/x-python",
   "name": "python",
   "nbconvert_exporter": "python",
   "pygments_lexer": "ipython3",
   "version": "3.9.12"
  }
 },
 "nbformat": 4,
 "nbformat_minor": 5
}
