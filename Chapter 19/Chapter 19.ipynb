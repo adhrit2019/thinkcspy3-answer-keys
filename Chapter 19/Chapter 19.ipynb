{
 "cells": [
  {
   "cell_type": "markdown",
   "id": "eddd0ff5",
   "metadata": {},
   "source": [
    "## CHAPTER NINETEEN\n",
    "# EXCEPTIONS"
   ]
  },
  {
   "cell_type": "markdown",
   "id": "81b130d0",
   "metadata": {},
   "source": [
    "### Exercises"
   ]
  },
  {
   "cell_type": "markdown",
   "id": "97962a54",
   "metadata": {},
   "source": [
    "#### Question 1"
   ]
  },
  {
   "cell_type": "code",
   "execution_count": 1,
   "id": "9c5c1507",
   "metadata": {},
   "outputs": [],
   "source": [
    "def readposint():\n",
    "    try:\n",
    "        n = int(input(\"Enter a positive integer: \"))\n",
    "        if n <= 0:\n",
    "            return\n",
    "        if n == \"\":\n",
    "            return\n",
    "    except ValueError:\n",
    "        pass\n",
    "    except KeyboardInterrupt:\n",
    "        pass"
   ]
  },
  {
   "cell_type": "code",
   "execution_count": 2,
   "id": "7f1cba8e",
   "metadata": {},
   "outputs": [
    {
     "name": "stdout",
     "output_type": "stream",
     "text": [
      "Enter a positive integer: 0\n"
     ]
    }
   ],
   "source": [
    "readposint()"
   ]
  },
  {
   "cell_type": "code",
   "execution_count": 3,
   "id": "6b9010e4",
   "metadata": {},
   "outputs": [
    {
     "name": "stdout",
     "output_type": "stream",
     "text": [
      "Enter a positive integer: -1\n"
     ]
    }
   ],
   "source": [
    "readposint()"
   ]
  },
  {
   "cell_type": "code",
   "execution_count": 4,
   "id": "f8af0578",
   "metadata": {},
   "outputs": [
    {
     "name": "stdout",
     "output_type": "stream",
     "text": [
      "Enter a positive integer: \n"
     ]
    }
   ],
   "source": [
    "readposint()"
   ]
  },
  {
   "cell_type": "code",
   "execution_count": 5,
   "id": "5014a9cb",
   "metadata": {},
   "outputs": [],
   "source": [
    "readposint()"
   ]
  },
  {
   "cell_type": "code",
   "execution_count": 6,
   "id": "09775ca1",
   "metadata": {},
   "outputs": [
    {
     "name": "stdout",
     "output_type": "stream",
     "text": [
      "Enter a positive integer: a\n"
     ]
    }
   ],
   "source": [
    "readposint()"
   ]
  }
 ],
 "metadata": {
  "kernelspec": {
   "display_name": "Python 3 (ipykernel)",
   "language": "python",
   "name": "python3"
  },
  "language_info": {
   "codemirror_mode": {
    "name": "ipython",
    "version": 3
   },
   "file_extension": ".py",
   "mimetype": "text/x-python",
   "name": "python",
   "nbconvert_exporter": "python",
   "pygments_lexer": "ipython3",
   "version": "3.9.12"
  }
 },
 "nbformat": 4,
 "nbformat_minor": 5
}
